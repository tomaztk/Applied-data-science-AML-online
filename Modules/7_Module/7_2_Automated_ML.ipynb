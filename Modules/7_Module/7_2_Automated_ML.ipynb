{
  "cells": [
    {
      "cell_type": "markdown",
      "source": [
        "# Automated ML with Regression model \n",
        "\n",
        "# On case of Taxi Data\n",
        "\n"
      ],
      "metadata": {}
    },
    {
      "cell_type": "markdown",
      "source": [
        "<img src=\"flow2.png\"\n",
        "     alt=\"Flow\"\n",
        "     style=\"float: left; margin-right: 10px;\" />"
      ],
      "metadata": {}
    },
    {
      "cell_type": "code",
      "source": [
        "from azureml.opendatasets import NycTlcGreen\n",
        "import pandas as pd\n",
        "from datetime import datetime\n",
        "from dateutil.relativedelta import relativedelta"
      ],
      "outputs": [],
      "execution_count": 1,
      "metadata": {
        "gather": {
          "logged": 1664454934057
        }
      }
    },
    {
      "cell_type": "markdown",
      "source": [
        "### Getting Taxi Data"
      ],
      "metadata": {}
    },
    {
      "cell_type": "code",
      "source": [
        "green_taxi_df = pd.DataFrame([])\n",
        "start = datetime.strptime(\"1/1/2015\",\"%m/%d/%Y\")\n",
        "end = datetime.strptime(\"1/31/2015\",\"%m/%d/%Y\")\n",
        "\n",
        "for sample_month in range(12):\n",
        "    temp_df_green = NycTlcGreen(start + relativedelta(months=sample_month), end + relativedelta(months=sample_month)) \\\n",
        "        .to_pandas_dataframe()\n",
        "    green_taxi_df = green_taxi_df.append(temp_df_green.sample(2000))\n",
        "\n",
        "green_taxi_df.head(10)"
      ],
      "outputs": [
        {
          "output_type": "stream",
          "name": "stdout",
          "text": "[Info] read from /tmp/tmpyy0eopee/https%3A/%2Fazureopendatastorage.azurefd.net/nyctlc/green/puYear=2015/puMonth=1/part-00175-tid-4753095944193949832-fee7e113-666d-4114-9fcb-bcd3046479f3-2745-1.c000.snappy.parquet\n[Info] read from /tmp/tmptz5hl3ps/https%3A/%2Fazureopendatastorage.azurefd.net/nyctlc/green/puYear=2015/puMonth=2/part-00007-tid-4753095944193949832-fee7e113-666d-4114-9fcb-bcd3046479f3-2577-1.c000.snappy.parquet\n[Info] read from /tmp/tmp63qju5hm/https%3A/%2Fazureopendatastorage.azurefd.net/nyctlc/green/puYear=2015/puMonth=3/part-00133-tid-4753095944193949832-fee7e113-666d-4114-9fcb-bcd3046479f3-2703-1.c000.snappy.parquet\n[Info] read from /tmp/tmp22tdlb9a/https%3A/%2Fazureopendatastorage.azurefd.net/nyctlc/green/puYear=2015/puMonth=4/part-00073-tid-4753095944193949832-fee7e113-666d-4114-9fcb-bcd3046479f3-2643-1.c000.snappy.parquet\n[Info] read from /tmp/tmpln06k35h/https%3A/%2Fazureopendatastorage.azurefd.net/nyctlc/green/puYear=2015/puMonth=5/part-00177-tid-4753095944193949832-fee7e113-666d-4114-9fcb-bcd3046479f3-2747-1.c000.snappy.parquet\n[Info] read from /tmp/tmpqnj74c9v/https%3A/%2Fazureopendatastorage.azurefd.net/nyctlc/green/puYear=2015/puMonth=6/part-00156-tid-4753095944193949832-fee7e113-666d-4114-9fcb-bcd3046479f3-2726-2.c000.snappy.parquet\n[Info] read from /tmp/tmphh4w4rao/https%3A/%2Fazureopendatastorage.azurefd.net/nyctlc/green/puYear=2015/puMonth=7/part-00147-tid-4753095944193949832-fee7e113-666d-4114-9fcb-bcd3046479f3-2717-1.c000.snappy.parquet\n[Info] read from /tmp/tmpvq7tqxii/https%3A/%2Fazureopendatastorage.azurefd.net/nyctlc/green/puYear=2015/puMonth=8/part-00074-tid-4753095944193949832-fee7e113-666d-4114-9fcb-bcd3046479f3-2644-1.c000.snappy.parquet\n[Info] read from /tmp/tmp1qj_knd3/https%3A/%2Fazureopendatastorage.azurefd.net/nyctlc/green/puYear=2015/puMonth=9/part-00092-tid-4753095944193949832-fee7e113-666d-4114-9fcb-bcd3046479f3-2662-1.c000.snappy.parquet\n[Info] read from /tmp/tmpxozblxgh/https%3A/%2Fazureopendatastorage.azurefd.net/nyctlc/green/puYear=2015/puMonth=10/part-00105-tid-4753095944193949832-fee7e113-666d-4114-9fcb-bcd3046479f3-2675-1.c000.snappy.parquet\n[Info] read from /tmp/tmpgkbryks5/https%3A/%2Fazureopendatastorage.azurefd.net/nyctlc/green/puYear=2015/puMonth=11/part-00089-tid-4753095944193949832-fee7e113-666d-4114-9fcb-bcd3046479f3-2659-1.c000.snappy.parquet\n[Info] read from /tmp/tmp0g9q7h1e/https%3A/%2Fazureopendatastorage.azurefd.net/nyctlc/green/puYear=2015/puMonth=12/part-00020-tid-4753095944193949832-fee7e113-666d-4114-9fcb-bcd3046479f3-2590-1.c000.snappy.parquet\n"
        },
        {
          "output_type": "execute_result",
          "execution_count": 2,
          "data": {
            "text/plain": "         vendorID  lpepPickupDatetime lpepDropoffDatetime  passengerCount  \\\n407341          1 2015-01-19 16:23:59 2015-01-19 16:27:54               1   \n563534          2 2015-01-22 07:59:14 2015-01-22 08:03:04               1   \n992530          1 2015-01-25 04:34:41 2015-01-25 04:56:55               2   \n740754          1 2015-01-17 01:36:35 2015-01-17 01:42:28               1   \n165841          2 2015-01-13 23:22:14 2015-01-13 23:38:58               1   \n1400658         2 2015-01-08 00:51:07 2015-01-08 01:17:18               1   \n807592          2 2015-01-01 06:25:31 2015-01-01 06:39:48               1   \n503858          1 2015-01-18 05:16:38 2015-01-18 05:35:42               1   \n538678          2 2015-01-18 22:57:51 2015-01-18 23:17:34               1   \n443471          2 2015-01-30 22:38:30 2015-01-30 22:48:26               1   \n\n         tripDistance puLocationId doLocationId  pickupLongitude  \\\n407341           0.60         None         None       -73.892647   \n563534           0.65         None         None       -73.938538   \n992530           7.50         None         None       -73.943207   \n740754           1.10         None         None       -73.938255   \n165841           3.07         None         None       -73.943428   \n1400658          8.20         None         None       -73.922058   \n807592           3.82         None         None       -73.958206   \n503858           6.80         None         None       -73.951683   \n538678           3.88         None         None       -73.897026   \n443471           3.27         None         None       -73.890717   \n\n         pickupLatitude  dropoffLongitude  ...  paymentType  fareAmount extra  \\\n407341        40.747150        -73.893745  ...            2         4.5   0.0   \n563534        40.818123        -73.948143  ...            2         4.5   0.0   \n992530        40.811024        -73.955124  ...            2        24.0   0.5   \n740754        40.817818        -73.950577  ...            1         6.5   0.5   \n165841        40.696060        -73.894196  ...            1        14.5   0.5   \n1400658       40.755257        -73.996933  ...            1        26.5   0.5   \n807592        40.721661        -73.967331  ...            1        14.5   0.0   \n503858        40.713951        -73.921387  ...            1        22.0   0.5   \n538678        40.846870        -73.906532  ...            2        15.5   0.5   \n443471        40.746967        -73.872360  ...            1        12.5   0.5   \n\n         mtaTax  improvementSurcharge  tipAmount  tollsAmount ehailFee  \\\n407341      0.5                   0.3       0.00          0.0      NaN   \n563534      0.5                   0.3       0.00          0.0      NaN   \n992530      0.5                   0.3       0.00          0.0      NaN   \n740754      0.5                   0.3       0.55          0.0      NaN   \n165841      0.5                   0.3       3.00          0.0      NaN   \n1400658     0.5                   0.3       5.40          0.0      NaN   \n807592      0.5                   0.3       3.62          0.0      NaN   \n503858      0.5                   0.3       4.65          0.0      NaN   \n538678      0.5                   0.3       0.00          0.0      NaN   \n443471      0.5                   0.3       2.76          0.0      NaN   \n\n         totalAmount  tripType  \n407341          5.30       1.0  \n563534          5.30       1.0  \n992530         25.30       1.0  \n740754          8.35       1.0  \n165841         18.80       1.0  \n1400658        33.20       1.0  \n807592         18.92       1.0  \n503858         27.95       1.0  \n538678         16.80       1.0  \n443471         16.56       1.0  \n\n[10 rows x 23 columns]",
            "text/html": "<div>\n<style scoped>\n    .dataframe tbody tr th:only-of-type {\n        vertical-align: middle;\n    }\n\n    .dataframe tbody tr th {\n        vertical-align: top;\n    }\n\n    .dataframe thead th {\n        text-align: right;\n    }\n</style>\n<table border=\"1\" class=\"dataframe\">\n  <thead>\n    <tr style=\"text-align: right;\">\n      <th></th>\n      <th>vendorID</th>\n      <th>lpepPickupDatetime</th>\n      <th>lpepDropoffDatetime</th>\n      <th>passengerCount</th>\n      <th>tripDistance</th>\n      <th>puLocationId</th>\n      <th>doLocationId</th>\n      <th>pickupLongitude</th>\n      <th>pickupLatitude</th>\n      <th>dropoffLongitude</th>\n      <th>...</th>\n      <th>paymentType</th>\n      <th>fareAmount</th>\n      <th>extra</th>\n      <th>mtaTax</th>\n      <th>improvementSurcharge</th>\n      <th>tipAmount</th>\n      <th>tollsAmount</th>\n      <th>ehailFee</th>\n      <th>totalAmount</th>\n      <th>tripType</th>\n    </tr>\n  </thead>\n  <tbody>\n    <tr>\n      <th>407341</th>\n      <td>1</td>\n      <td>2015-01-19 16:23:59</td>\n      <td>2015-01-19 16:27:54</td>\n      <td>1</td>\n      <td>0.60</td>\n      <td>None</td>\n      <td>None</td>\n      <td>-73.892647</td>\n      <td>40.747150</td>\n      <td>-73.893745</td>\n      <td>...</td>\n      <td>2</td>\n      <td>4.5</td>\n      <td>0.0</td>\n      <td>0.5</td>\n      <td>0.3</td>\n      <td>0.00</td>\n      <td>0.0</td>\n      <td>NaN</td>\n      <td>5.30</td>\n      <td>1.0</td>\n    </tr>\n    <tr>\n      <th>563534</th>\n      <td>2</td>\n      <td>2015-01-22 07:59:14</td>\n      <td>2015-01-22 08:03:04</td>\n      <td>1</td>\n      <td>0.65</td>\n      <td>None</td>\n      <td>None</td>\n      <td>-73.938538</td>\n      <td>40.818123</td>\n      <td>-73.948143</td>\n      <td>...</td>\n      <td>2</td>\n      <td>4.5</td>\n      <td>0.0</td>\n      <td>0.5</td>\n      <td>0.3</td>\n      <td>0.00</td>\n      <td>0.0</td>\n      <td>NaN</td>\n      <td>5.30</td>\n      <td>1.0</td>\n    </tr>\n    <tr>\n      <th>992530</th>\n      <td>1</td>\n      <td>2015-01-25 04:34:41</td>\n      <td>2015-01-25 04:56:55</td>\n      <td>2</td>\n      <td>7.50</td>\n      <td>None</td>\n      <td>None</td>\n      <td>-73.943207</td>\n      <td>40.811024</td>\n      <td>-73.955124</td>\n      <td>...</td>\n      <td>2</td>\n      <td>24.0</td>\n      <td>0.5</td>\n      <td>0.5</td>\n      <td>0.3</td>\n      <td>0.00</td>\n      <td>0.0</td>\n      <td>NaN</td>\n      <td>25.30</td>\n      <td>1.0</td>\n    </tr>\n    <tr>\n      <th>740754</th>\n      <td>1</td>\n      <td>2015-01-17 01:36:35</td>\n      <td>2015-01-17 01:42:28</td>\n      <td>1</td>\n      <td>1.10</td>\n      <td>None</td>\n      <td>None</td>\n      <td>-73.938255</td>\n      <td>40.817818</td>\n      <td>-73.950577</td>\n      <td>...</td>\n      <td>1</td>\n      <td>6.5</td>\n      <td>0.5</td>\n      <td>0.5</td>\n      <td>0.3</td>\n      <td>0.55</td>\n      <td>0.0</td>\n      <td>NaN</td>\n      <td>8.35</td>\n      <td>1.0</td>\n    </tr>\n    <tr>\n      <th>165841</th>\n      <td>2</td>\n      <td>2015-01-13 23:22:14</td>\n      <td>2015-01-13 23:38:58</td>\n      <td>1</td>\n      <td>3.07</td>\n      <td>None</td>\n      <td>None</td>\n      <td>-73.943428</td>\n      <td>40.696060</td>\n      <td>-73.894196</td>\n      <td>...</td>\n      <td>1</td>\n      <td>14.5</td>\n      <td>0.5</td>\n      <td>0.5</td>\n      <td>0.3</td>\n      <td>3.00</td>\n      <td>0.0</td>\n      <td>NaN</td>\n      <td>18.80</td>\n      <td>1.0</td>\n    </tr>\n    <tr>\n      <th>1400658</th>\n      <td>2</td>\n      <td>2015-01-08 00:51:07</td>\n      <td>2015-01-08 01:17:18</td>\n      <td>1</td>\n      <td>8.20</td>\n      <td>None</td>\n      <td>None</td>\n      <td>-73.922058</td>\n      <td>40.755257</td>\n      <td>-73.996933</td>\n      <td>...</td>\n      <td>1</td>\n      <td>26.5</td>\n      <td>0.5</td>\n      <td>0.5</td>\n      <td>0.3</td>\n      <td>5.40</td>\n      <td>0.0</td>\n      <td>NaN</td>\n      <td>33.20</td>\n      <td>1.0</td>\n    </tr>\n    <tr>\n      <th>807592</th>\n      <td>2</td>\n      <td>2015-01-01 06:25:31</td>\n      <td>2015-01-01 06:39:48</td>\n      <td>1</td>\n      <td>3.82</td>\n      <td>None</td>\n      <td>None</td>\n      <td>-73.958206</td>\n      <td>40.721661</td>\n      <td>-73.967331</td>\n      <td>...</td>\n      <td>1</td>\n      <td>14.5</td>\n      <td>0.0</td>\n      <td>0.5</td>\n      <td>0.3</td>\n      <td>3.62</td>\n      <td>0.0</td>\n      <td>NaN</td>\n      <td>18.92</td>\n      <td>1.0</td>\n    </tr>\n    <tr>\n      <th>503858</th>\n      <td>1</td>\n      <td>2015-01-18 05:16:38</td>\n      <td>2015-01-18 05:35:42</td>\n      <td>1</td>\n      <td>6.80</td>\n      <td>None</td>\n      <td>None</td>\n      <td>-73.951683</td>\n      <td>40.713951</td>\n      <td>-73.921387</td>\n      <td>...</td>\n      <td>1</td>\n      <td>22.0</td>\n      <td>0.5</td>\n      <td>0.5</td>\n      <td>0.3</td>\n      <td>4.65</td>\n      <td>0.0</td>\n      <td>NaN</td>\n      <td>27.95</td>\n      <td>1.0</td>\n    </tr>\n    <tr>\n      <th>538678</th>\n      <td>2</td>\n      <td>2015-01-18 22:57:51</td>\n      <td>2015-01-18 23:17:34</td>\n      <td>1</td>\n      <td>3.88</td>\n      <td>None</td>\n      <td>None</td>\n      <td>-73.897026</td>\n      <td>40.846870</td>\n      <td>-73.906532</td>\n      <td>...</td>\n      <td>2</td>\n      <td>15.5</td>\n      <td>0.5</td>\n      <td>0.5</td>\n      <td>0.3</td>\n      <td>0.00</td>\n      <td>0.0</td>\n      <td>NaN</td>\n      <td>16.80</td>\n      <td>1.0</td>\n    </tr>\n    <tr>\n      <th>443471</th>\n      <td>2</td>\n      <td>2015-01-30 22:38:30</td>\n      <td>2015-01-30 22:48:26</td>\n      <td>1</td>\n      <td>3.27</td>\n      <td>None</td>\n      <td>None</td>\n      <td>-73.890717</td>\n      <td>40.746967</td>\n      <td>-73.872360</td>\n      <td>...</td>\n      <td>1</td>\n      <td>12.5</td>\n      <td>0.5</td>\n      <td>0.5</td>\n      <td>0.3</td>\n      <td>2.76</td>\n      <td>0.0</td>\n      <td>NaN</td>\n      <td>16.56</td>\n      <td>1.0</td>\n    </tr>\n  </tbody>\n</table>\n<p>10 rows × 23 columns</p>\n</div>"
          },
          "metadata": {}
        }
      ],
      "execution_count": 2,
      "metadata": {
        "gather": {
          "logged": 1664455090534
        }
      }
    },
    {
      "cell_type": "markdown",
      "source": [
        "## Creating different Time Various frames"
      ],
      "metadata": {}
    },
    {
      "cell_type": "code",
      "source": [
        "def build_time_features(vector):\n",
        "    pickup_datetime = vector[0]\n",
        "    month_num = pickup_datetime.month\n",
        "    day_of_month = pickup_datetime.day\n",
        "    day_of_week = pickup_datetime.weekday()\n",
        "    hour_of_day = pickup_datetime.hour\n",
        "\n",
        "    return pd.Series((month_num, day_of_month, day_of_week, hour_of_day))\n",
        "\n",
        "green_taxi_df[[\"month_num\", \"day_of_month\",\"day_of_week\", \"hour_of_day\"]] = green_taxi_df[[\"lpepPickupDatetime\"]].apply(build_time_features, axis=1)\n",
        "green_taxi_df.head(10)"
      ],
      "outputs": [
        {
          "output_type": "execute_result",
          "execution_count": 3,
          "data": {
            "text/plain": "         vendorID  lpepPickupDatetime lpepDropoffDatetime  passengerCount  \\\n407341          1 2015-01-19 16:23:59 2015-01-19 16:27:54               1   \n563534          2 2015-01-22 07:59:14 2015-01-22 08:03:04               1   \n992530          1 2015-01-25 04:34:41 2015-01-25 04:56:55               2   \n740754          1 2015-01-17 01:36:35 2015-01-17 01:42:28               1   \n165841          2 2015-01-13 23:22:14 2015-01-13 23:38:58               1   \n1400658         2 2015-01-08 00:51:07 2015-01-08 01:17:18               1   \n807592          2 2015-01-01 06:25:31 2015-01-01 06:39:48               1   \n503858          1 2015-01-18 05:16:38 2015-01-18 05:35:42               1   \n538678          2 2015-01-18 22:57:51 2015-01-18 23:17:34               1   \n443471          2 2015-01-30 22:38:30 2015-01-30 22:48:26               1   \n\n         tripDistance puLocationId doLocationId  pickupLongitude  \\\n407341           0.60         None         None       -73.892647   \n563534           0.65         None         None       -73.938538   \n992530           7.50         None         None       -73.943207   \n740754           1.10         None         None       -73.938255   \n165841           3.07         None         None       -73.943428   \n1400658          8.20         None         None       -73.922058   \n807592           3.82         None         None       -73.958206   \n503858           6.80         None         None       -73.951683   \n538678           3.88         None         None       -73.897026   \n443471           3.27         None         None       -73.890717   \n\n         pickupLatitude  dropoffLongitude  ...  improvementSurcharge  \\\n407341        40.747150        -73.893745  ...                   0.3   \n563534        40.818123        -73.948143  ...                   0.3   \n992530        40.811024        -73.955124  ...                   0.3   \n740754        40.817818        -73.950577  ...                   0.3   \n165841        40.696060        -73.894196  ...                   0.3   \n1400658       40.755257        -73.996933  ...                   0.3   \n807592        40.721661        -73.967331  ...                   0.3   \n503858        40.713951        -73.921387  ...                   0.3   \n538678        40.846870        -73.906532  ...                   0.3   \n443471        40.746967        -73.872360  ...                   0.3   \n\n         tipAmount tollsAmount  ehailFee  totalAmount  tripType  month_num  \\\n407341        0.00         0.0       NaN         5.30       1.0          1   \n563534        0.00         0.0       NaN         5.30       1.0          1   \n992530        0.00         0.0       NaN        25.30       1.0          1   \n740754        0.55         0.0       NaN         8.35       1.0          1   \n165841        3.00         0.0       NaN        18.80       1.0          1   \n1400658       5.40         0.0       NaN        33.20       1.0          1   \n807592        3.62         0.0       NaN        18.92       1.0          1   \n503858        4.65         0.0       NaN        27.95       1.0          1   \n538678        0.00         0.0       NaN        16.80       1.0          1   \n443471        2.76         0.0       NaN        16.56       1.0          1   \n\n        day_of_month  day_of_week  hour_of_day  \n407341            19            0           16  \n563534            22            3            7  \n992530            25            6            4  \n740754            17            5            1  \n165841            13            1           23  \n1400658            8            3            0  \n807592             1            3            6  \n503858            18            6            5  \n538678            18            6           22  \n443471            30            4           22  \n\n[10 rows x 27 columns]",
            "text/html": "<div>\n<style scoped>\n    .dataframe tbody tr th:only-of-type {\n        vertical-align: middle;\n    }\n\n    .dataframe tbody tr th {\n        vertical-align: top;\n    }\n\n    .dataframe thead th {\n        text-align: right;\n    }\n</style>\n<table border=\"1\" class=\"dataframe\">\n  <thead>\n    <tr style=\"text-align: right;\">\n      <th></th>\n      <th>vendorID</th>\n      <th>lpepPickupDatetime</th>\n      <th>lpepDropoffDatetime</th>\n      <th>passengerCount</th>\n      <th>tripDistance</th>\n      <th>puLocationId</th>\n      <th>doLocationId</th>\n      <th>pickupLongitude</th>\n      <th>pickupLatitude</th>\n      <th>dropoffLongitude</th>\n      <th>...</th>\n      <th>improvementSurcharge</th>\n      <th>tipAmount</th>\n      <th>tollsAmount</th>\n      <th>ehailFee</th>\n      <th>totalAmount</th>\n      <th>tripType</th>\n      <th>month_num</th>\n      <th>day_of_month</th>\n      <th>day_of_week</th>\n      <th>hour_of_day</th>\n    </tr>\n  </thead>\n  <tbody>\n    <tr>\n      <th>407341</th>\n      <td>1</td>\n      <td>2015-01-19 16:23:59</td>\n      <td>2015-01-19 16:27:54</td>\n      <td>1</td>\n      <td>0.60</td>\n      <td>None</td>\n      <td>None</td>\n      <td>-73.892647</td>\n      <td>40.747150</td>\n      <td>-73.893745</td>\n      <td>...</td>\n      <td>0.3</td>\n      <td>0.00</td>\n      <td>0.0</td>\n      <td>NaN</td>\n      <td>5.30</td>\n      <td>1.0</td>\n      <td>1</td>\n      <td>19</td>\n      <td>0</td>\n      <td>16</td>\n    </tr>\n    <tr>\n      <th>563534</th>\n      <td>2</td>\n      <td>2015-01-22 07:59:14</td>\n      <td>2015-01-22 08:03:04</td>\n      <td>1</td>\n      <td>0.65</td>\n      <td>None</td>\n      <td>None</td>\n      <td>-73.938538</td>\n      <td>40.818123</td>\n      <td>-73.948143</td>\n      <td>...</td>\n      <td>0.3</td>\n      <td>0.00</td>\n      <td>0.0</td>\n      <td>NaN</td>\n      <td>5.30</td>\n      <td>1.0</td>\n      <td>1</td>\n      <td>22</td>\n      <td>3</td>\n      <td>7</td>\n    </tr>\n    <tr>\n      <th>992530</th>\n      <td>1</td>\n      <td>2015-01-25 04:34:41</td>\n      <td>2015-01-25 04:56:55</td>\n      <td>2</td>\n      <td>7.50</td>\n      <td>None</td>\n      <td>None</td>\n      <td>-73.943207</td>\n      <td>40.811024</td>\n      <td>-73.955124</td>\n      <td>...</td>\n      <td>0.3</td>\n      <td>0.00</td>\n      <td>0.0</td>\n      <td>NaN</td>\n      <td>25.30</td>\n      <td>1.0</td>\n      <td>1</td>\n      <td>25</td>\n      <td>6</td>\n      <td>4</td>\n    </tr>\n    <tr>\n      <th>740754</th>\n      <td>1</td>\n      <td>2015-01-17 01:36:35</td>\n      <td>2015-01-17 01:42:28</td>\n      <td>1</td>\n      <td>1.10</td>\n      <td>None</td>\n      <td>None</td>\n      <td>-73.938255</td>\n      <td>40.817818</td>\n      <td>-73.950577</td>\n      <td>...</td>\n      <td>0.3</td>\n      <td>0.55</td>\n      <td>0.0</td>\n      <td>NaN</td>\n      <td>8.35</td>\n      <td>1.0</td>\n      <td>1</td>\n      <td>17</td>\n      <td>5</td>\n      <td>1</td>\n    </tr>\n    <tr>\n      <th>165841</th>\n      <td>2</td>\n      <td>2015-01-13 23:22:14</td>\n      <td>2015-01-13 23:38:58</td>\n      <td>1</td>\n      <td>3.07</td>\n      <td>None</td>\n      <td>None</td>\n      <td>-73.943428</td>\n      <td>40.696060</td>\n      <td>-73.894196</td>\n      <td>...</td>\n      <td>0.3</td>\n      <td>3.00</td>\n      <td>0.0</td>\n      <td>NaN</td>\n      <td>18.80</td>\n      <td>1.0</td>\n      <td>1</td>\n      <td>13</td>\n      <td>1</td>\n      <td>23</td>\n    </tr>\n    <tr>\n      <th>1400658</th>\n      <td>2</td>\n      <td>2015-01-08 00:51:07</td>\n      <td>2015-01-08 01:17:18</td>\n      <td>1</td>\n      <td>8.20</td>\n      <td>None</td>\n      <td>None</td>\n      <td>-73.922058</td>\n      <td>40.755257</td>\n      <td>-73.996933</td>\n      <td>...</td>\n      <td>0.3</td>\n      <td>5.40</td>\n      <td>0.0</td>\n      <td>NaN</td>\n      <td>33.20</td>\n      <td>1.0</td>\n      <td>1</td>\n      <td>8</td>\n      <td>3</td>\n      <td>0</td>\n    </tr>\n    <tr>\n      <th>807592</th>\n      <td>2</td>\n      <td>2015-01-01 06:25:31</td>\n      <td>2015-01-01 06:39:48</td>\n      <td>1</td>\n      <td>3.82</td>\n      <td>None</td>\n      <td>None</td>\n      <td>-73.958206</td>\n      <td>40.721661</td>\n      <td>-73.967331</td>\n      <td>...</td>\n      <td>0.3</td>\n      <td>3.62</td>\n      <td>0.0</td>\n      <td>NaN</td>\n      <td>18.92</td>\n      <td>1.0</td>\n      <td>1</td>\n      <td>1</td>\n      <td>3</td>\n      <td>6</td>\n    </tr>\n    <tr>\n      <th>503858</th>\n      <td>1</td>\n      <td>2015-01-18 05:16:38</td>\n      <td>2015-01-18 05:35:42</td>\n      <td>1</td>\n      <td>6.80</td>\n      <td>None</td>\n      <td>None</td>\n      <td>-73.951683</td>\n      <td>40.713951</td>\n      <td>-73.921387</td>\n      <td>...</td>\n      <td>0.3</td>\n      <td>4.65</td>\n      <td>0.0</td>\n      <td>NaN</td>\n      <td>27.95</td>\n      <td>1.0</td>\n      <td>1</td>\n      <td>18</td>\n      <td>6</td>\n      <td>5</td>\n    </tr>\n    <tr>\n      <th>538678</th>\n      <td>2</td>\n      <td>2015-01-18 22:57:51</td>\n      <td>2015-01-18 23:17:34</td>\n      <td>1</td>\n      <td>3.88</td>\n      <td>None</td>\n      <td>None</td>\n      <td>-73.897026</td>\n      <td>40.846870</td>\n      <td>-73.906532</td>\n      <td>...</td>\n      <td>0.3</td>\n      <td>0.00</td>\n      <td>0.0</td>\n      <td>NaN</td>\n      <td>16.80</td>\n      <td>1.0</td>\n      <td>1</td>\n      <td>18</td>\n      <td>6</td>\n      <td>22</td>\n    </tr>\n    <tr>\n      <th>443471</th>\n      <td>2</td>\n      <td>2015-01-30 22:38:30</td>\n      <td>2015-01-30 22:48:26</td>\n      <td>1</td>\n      <td>3.27</td>\n      <td>None</td>\n      <td>None</td>\n      <td>-73.890717</td>\n      <td>40.746967</td>\n      <td>-73.872360</td>\n      <td>...</td>\n      <td>0.3</td>\n      <td>2.76</td>\n      <td>0.0</td>\n      <td>NaN</td>\n      <td>16.56</td>\n      <td>1.0</td>\n      <td>1</td>\n      <td>30</td>\n      <td>4</td>\n      <td>22</td>\n    </tr>\n  </tbody>\n</table>\n<p>10 rows × 27 columns</p>\n</div>"
          },
          "metadata": {}
        }
      ],
      "execution_count": 3,
      "metadata": {
        "gather": {
          "logged": 1664455094676
        }
      }
    },
    {
      "cell_type": "markdown",
      "source": [
        "### Remove unneeded columns and clean data"
      ],
      "metadata": {}
    },
    {
      "cell_type": "code",
      "source": [
        "columns_to_remove = [\"lpepPickupDatetime\", \"lpepDropoffDatetime\", \"puLocationId\", \"doLocationId\", \"extra\", \"mtaTax\",\n",
        "                     \"improvementSurcharge\", \"tollsAmount\", \"ehailFee\", \"tripType\", \"rateCodeID\",\n",
        "                     \"storeAndFwdFlag\", \"paymentType\", \"fareAmount\", \"tipAmount\"\n",
        "                    ]\n",
        "for col in columns_to_remove:\n",
        "    green_taxi_df.pop(col)\n",
        "\n",
        "green_taxi_df.head(5)"
      ],
      "outputs": [
        {
          "output_type": "execute_result",
          "execution_count": 4,
          "data": {
            "text/plain": "        vendorID  passengerCount  tripDistance  pickupLongitude  \\\n407341         1               1          0.60       -73.892647   \n563534         2               1          0.65       -73.938538   \n992530         1               2          7.50       -73.943207   \n740754         1               1          1.10       -73.938255   \n165841         2               1          3.07       -73.943428   \n\n        pickupLatitude  dropoffLongitude  dropoffLatitude  totalAmount  \\\n407341       40.747150        -73.893745        40.752750         5.30   \n563534       40.818123        -73.948143        40.821327         5.30   \n992530       40.811024        -73.955124        40.742214        25.30   \n740754       40.817818        -73.950577        40.806129         8.35   \n165841       40.696060        -73.894196        40.681606        18.80   \n\n        month_num  day_of_month  day_of_week  hour_of_day  \n407341          1            19            0           16  \n563534          1            22            3            7  \n992530          1            25            6            4  \n740754          1            17            5            1  \n165841          1            13            1           23  ",
            "text/html": "<div>\n<style scoped>\n    .dataframe tbody tr th:only-of-type {\n        vertical-align: middle;\n    }\n\n    .dataframe tbody tr th {\n        vertical-align: top;\n    }\n\n    .dataframe thead th {\n        text-align: right;\n    }\n</style>\n<table border=\"1\" class=\"dataframe\">\n  <thead>\n    <tr style=\"text-align: right;\">\n      <th></th>\n      <th>vendorID</th>\n      <th>passengerCount</th>\n      <th>tripDistance</th>\n      <th>pickupLongitude</th>\n      <th>pickupLatitude</th>\n      <th>dropoffLongitude</th>\n      <th>dropoffLatitude</th>\n      <th>totalAmount</th>\n      <th>month_num</th>\n      <th>day_of_month</th>\n      <th>day_of_week</th>\n      <th>hour_of_day</th>\n    </tr>\n  </thead>\n  <tbody>\n    <tr>\n      <th>407341</th>\n      <td>1</td>\n      <td>1</td>\n      <td>0.60</td>\n      <td>-73.892647</td>\n      <td>40.747150</td>\n      <td>-73.893745</td>\n      <td>40.752750</td>\n      <td>5.30</td>\n      <td>1</td>\n      <td>19</td>\n      <td>0</td>\n      <td>16</td>\n    </tr>\n    <tr>\n      <th>563534</th>\n      <td>2</td>\n      <td>1</td>\n      <td>0.65</td>\n      <td>-73.938538</td>\n      <td>40.818123</td>\n      <td>-73.948143</td>\n      <td>40.821327</td>\n      <td>5.30</td>\n      <td>1</td>\n      <td>22</td>\n      <td>3</td>\n      <td>7</td>\n    </tr>\n    <tr>\n      <th>992530</th>\n      <td>1</td>\n      <td>2</td>\n      <td>7.50</td>\n      <td>-73.943207</td>\n      <td>40.811024</td>\n      <td>-73.955124</td>\n      <td>40.742214</td>\n      <td>25.30</td>\n      <td>1</td>\n      <td>25</td>\n      <td>6</td>\n      <td>4</td>\n    </tr>\n    <tr>\n      <th>740754</th>\n      <td>1</td>\n      <td>1</td>\n      <td>1.10</td>\n      <td>-73.938255</td>\n      <td>40.817818</td>\n      <td>-73.950577</td>\n      <td>40.806129</td>\n      <td>8.35</td>\n      <td>1</td>\n      <td>17</td>\n      <td>5</td>\n      <td>1</td>\n    </tr>\n    <tr>\n      <th>165841</th>\n      <td>2</td>\n      <td>1</td>\n      <td>3.07</td>\n      <td>-73.943428</td>\n      <td>40.696060</td>\n      <td>-73.894196</td>\n      <td>40.681606</td>\n      <td>18.80</td>\n      <td>1</td>\n      <td>13</td>\n      <td>1</td>\n      <td>23</td>\n    </tr>\n  </tbody>\n</table>\n</div>"
          },
          "metadata": {}
        }
      ],
      "execution_count": 4,
      "metadata": {
        "gather": {
          "logged": 1664455094878
        }
      }
    },
    {
      "cell_type": "markdown",
      "source": [
        "### Check some descriptive statistics"
      ],
      "metadata": {}
    },
    {
      "cell_type": "code",
      "source": [
        "green_taxi_df.describe()"
      ],
      "outputs": [
        {
          "output_type": "execute_result",
          "execution_count": 5,
          "data": {
            "text/plain": "           vendorID  passengerCount  tripDistance  pickupLongitude  \\\ncount  24000.000000    24000.000000  24000.000000     24000.000000   \nmean       1.782000        1.390292      2.868821       -73.836669   \nstd        0.412896        1.072775      3.043239         2.698319   \nmin        1.000000        0.000000      0.000000       -74.193604   \n25%        2.000000        1.000000      1.060000       -73.959229   \n50%        2.000000        1.000000      1.900000       -73.945251   \n75%        2.000000        1.000000      3.630000       -73.917082   \nmax        2.000000        6.000000    168.620000         0.000000   \n\n       pickupLatitude  dropoffLongitude  dropoffLatitude   totalAmount  \\\ncount    24000.000000      24000.000000     24000.000000  24000.000000   \nmean        40.695456        -73.850888        40.701937     14.766242   \nstd          1.488126          2.478995         1.367261     11.537301   \nmin          0.000000        -74.208000         0.000000   -351.800000   \n25%         40.699739        -73.967249        40.700525      8.000000   \n50%         40.746883        -73.944504        40.747936     11.300000   \n75%         40.803762        -73.909351        40.792279     17.800000   \nmax         40.955685          0.000000        42.465805    259.000000   \n\n          month_num  day_of_month   day_of_week   hour_of_day  \ncount  24000.000000  24000.000000  24000.000000  24000.000000  \nmean       6.500000     15.169583      3.235833     13.578125  \nstd        3.452124      8.446097      1.961728      6.787929  \nmin        1.000000      1.000000      0.000000      0.000000  \n25%        3.750000      8.000000      2.000000      9.000000  \n50%        6.500000     15.000000      3.000000     15.000000  \n75%        9.250000     22.000000      5.000000     19.000000  \nmax       12.000000     30.000000      6.000000     23.000000  ",
            "text/html": "<div>\n<style scoped>\n    .dataframe tbody tr th:only-of-type {\n        vertical-align: middle;\n    }\n\n    .dataframe tbody tr th {\n        vertical-align: top;\n    }\n\n    .dataframe thead th {\n        text-align: right;\n    }\n</style>\n<table border=\"1\" class=\"dataframe\">\n  <thead>\n    <tr style=\"text-align: right;\">\n      <th></th>\n      <th>vendorID</th>\n      <th>passengerCount</th>\n      <th>tripDistance</th>\n      <th>pickupLongitude</th>\n      <th>pickupLatitude</th>\n      <th>dropoffLongitude</th>\n      <th>dropoffLatitude</th>\n      <th>totalAmount</th>\n      <th>month_num</th>\n      <th>day_of_month</th>\n      <th>day_of_week</th>\n      <th>hour_of_day</th>\n    </tr>\n  </thead>\n  <tbody>\n    <tr>\n      <th>count</th>\n      <td>24000.000000</td>\n      <td>24000.000000</td>\n      <td>24000.000000</td>\n      <td>24000.000000</td>\n      <td>24000.000000</td>\n      <td>24000.000000</td>\n      <td>24000.000000</td>\n      <td>24000.000000</td>\n      <td>24000.000000</td>\n      <td>24000.000000</td>\n      <td>24000.000000</td>\n      <td>24000.000000</td>\n    </tr>\n    <tr>\n      <th>mean</th>\n      <td>1.782000</td>\n      <td>1.390292</td>\n      <td>2.868821</td>\n      <td>-73.836669</td>\n      <td>40.695456</td>\n      <td>-73.850888</td>\n      <td>40.701937</td>\n      <td>14.766242</td>\n      <td>6.500000</td>\n      <td>15.169583</td>\n      <td>3.235833</td>\n      <td>13.578125</td>\n    </tr>\n    <tr>\n      <th>std</th>\n      <td>0.412896</td>\n      <td>1.072775</td>\n      <td>3.043239</td>\n      <td>2.698319</td>\n      <td>1.488126</td>\n      <td>2.478995</td>\n      <td>1.367261</td>\n      <td>11.537301</td>\n      <td>3.452124</td>\n      <td>8.446097</td>\n      <td>1.961728</td>\n      <td>6.787929</td>\n    </tr>\n    <tr>\n      <th>min</th>\n      <td>1.000000</td>\n      <td>0.000000</td>\n      <td>0.000000</td>\n      <td>-74.193604</td>\n      <td>0.000000</td>\n      <td>-74.208000</td>\n      <td>0.000000</td>\n      <td>-351.800000</td>\n      <td>1.000000</td>\n      <td>1.000000</td>\n      <td>0.000000</td>\n      <td>0.000000</td>\n    </tr>\n    <tr>\n      <th>25%</th>\n      <td>2.000000</td>\n      <td>1.000000</td>\n      <td>1.060000</td>\n      <td>-73.959229</td>\n      <td>40.699739</td>\n      <td>-73.967249</td>\n      <td>40.700525</td>\n      <td>8.000000</td>\n      <td>3.750000</td>\n      <td>8.000000</td>\n      <td>2.000000</td>\n      <td>9.000000</td>\n    </tr>\n    <tr>\n      <th>50%</th>\n      <td>2.000000</td>\n      <td>1.000000</td>\n      <td>1.900000</td>\n      <td>-73.945251</td>\n      <td>40.746883</td>\n      <td>-73.944504</td>\n      <td>40.747936</td>\n      <td>11.300000</td>\n      <td>6.500000</td>\n      <td>15.000000</td>\n      <td>3.000000</td>\n      <td>15.000000</td>\n    </tr>\n    <tr>\n      <th>75%</th>\n      <td>2.000000</td>\n      <td>1.000000</td>\n      <td>3.630000</td>\n      <td>-73.917082</td>\n      <td>40.803762</td>\n      <td>-73.909351</td>\n      <td>40.792279</td>\n      <td>17.800000</td>\n      <td>9.250000</td>\n      <td>22.000000</td>\n      <td>5.000000</td>\n      <td>19.000000</td>\n    </tr>\n    <tr>\n      <th>max</th>\n      <td>2.000000</td>\n      <td>6.000000</td>\n      <td>168.620000</td>\n      <td>0.000000</td>\n      <td>40.955685</td>\n      <td>0.000000</td>\n      <td>42.465805</td>\n      <td>259.000000</td>\n      <td>12.000000</td>\n      <td>30.000000</td>\n      <td>6.000000</td>\n      <td>23.000000</td>\n    </tr>\n  </tbody>\n</table>\n</div>"
          },
          "metadata": {}
        }
      ],
      "execution_count": 5,
      "metadata": {
        "gather": {
          "logged": 1664455095002
        }
      }
    },
    {
      "cell_type": "markdown",
      "source": [
        "### Finalize the data"
      ],
      "metadata": {}
    },
    {
      "cell_type": "code",
      "source": [
        "final_df = green_taxi_df.query(\"pickupLatitude>=40.53 and pickupLatitude<=40.88\")\n",
        "final_df = final_df.query(\"pickupLongitude>=-74.09 and pickupLongitude<=-73.72\")\n",
        "final_df = final_df.query(\"tripDistance>=0.25 and tripDistance<31\")\n",
        "final_df = final_df.query(\"passengerCount>0 and totalAmount>0\")\n",
        "\n",
        "columns_to_remove_for_training = [\"pickupLongitude\", \"pickupLatitude\", \"dropoffLongitude\", \"dropoffLatitude\"]\n",
        "for col in columns_to_remove_for_training:\n",
        "    final_df.pop(col)"
      ],
      "outputs": [],
      "execution_count": 6,
      "metadata": {
        "gather": {
          "logged": 1664455095107
        }
      }
    },
    {
      "cell_type": "markdown",
      "source": [
        "### Look into data"
      ],
      "metadata": {}
    },
    {
      "cell_type": "code",
      "source": [
        "final_df.describe()"
      ],
      "outputs": [
        {
          "output_type": "execute_result",
          "execution_count": 7,
          "data": {
            "text/plain": "           vendorID  passengerCount  tripDistance   totalAmount     month_num  \\\ncount  23209.000000    23209.000000  23209.000000  23209.000000  23209.000000   \nmean       1.783446        1.393468      2.934003     14.780685      6.508337   \nstd        0.411905        1.077864      2.818023     10.253866      3.451145   \nmin        1.000000        1.000000      0.250000      0.010000      1.000000   \n25%        2.000000        1.000000      1.110000      8.190000      4.000000   \n50%        2.000000        1.000000      1.980000     11.600000      7.000000   \n75%        2.000000        1.000000      3.700000     17.800000     10.000000   \nmax        2.000000        6.000000     30.000000    211.000000     12.000000   \n\n       day_of_month   day_of_week   hour_of_day  \ncount  23209.000000  23209.000000  23209.000000  \nmean      15.179801      3.243655     13.592055  \nstd        8.446245      1.961289      6.795892  \nmin        1.000000      0.000000      0.000000  \n25%        8.000000      2.000000      9.000000  \n50%       15.000000      3.000000     15.000000  \n75%       22.000000      5.000000     19.000000  \nmax       30.000000      6.000000     23.000000  ",
            "text/html": "<div>\n<style scoped>\n    .dataframe tbody tr th:only-of-type {\n        vertical-align: middle;\n    }\n\n    .dataframe tbody tr th {\n        vertical-align: top;\n    }\n\n    .dataframe thead th {\n        text-align: right;\n    }\n</style>\n<table border=\"1\" class=\"dataframe\">\n  <thead>\n    <tr style=\"text-align: right;\">\n      <th></th>\n      <th>vendorID</th>\n      <th>passengerCount</th>\n      <th>tripDistance</th>\n      <th>totalAmount</th>\n      <th>month_num</th>\n      <th>day_of_month</th>\n      <th>day_of_week</th>\n      <th>hour_of_day</th>\n    </tr>\n  </thead>\n  <tbody>\n    <tr>\n      <th>count</th>\n      <td>23209.000000</td>\n      <td>23209.000000</td>\n      <td>23209.000000</td>\n      <td>23209.000000</td>\n      <td>23209.000000</td>\n      <td>23209.000000</td>\n      <td>23209.000000</td>\n      <td>23209.000000</td>\n    </tr>\n    <tr>\n      <th>mean</th>\n      <td>1.783446</td>\n      <td>1.393468</td>\n      <td>2.934003</td>\n      <td>14.780685</td>\n      <td>6.508337</td>\n      <td>15.179801</td>\n      <td>3.243655</td>\n      <td>13.592055</td>\n    </tr>\n    <tr>\n      <th>std</th>\n      <td>0.411905</td>\n      <td>1.077864</td>\n      <td>2.818023</td>\n      <td>10.253866</td>\n      <td>3.451145</td>\n      <td>8.446245</td>\n      <td>1.961289</td>\n      <td>6.795892</td>\n    </tr>\n    <tr>\n      <th>min</th>\n      <td>1.000000</td>\n      <td>1.000000</td>\n      <td>0.250000</td>\n      <td>0.010000</td>\n      <td>1.000000</td>\n      <td>1.000000</td>\n      <td>0.000000</td>\n      <td>0.000000</td>\n    </tr>\n    <tr>\n      <th>25%</th>\n      <td>2.000000</td>\n      <td>1.000000</td>\n      <td>1.110000</td>\n      <td>8.190000</td>\n      <td>4.000000</td>\n      <td>8.000000</td>\n      <td>2.000000</td>\n      <td>9.000000</td>\n    </tr>\n    <tr>\n      <th>50%</th>\n      <td>2.000000</td>\n      <td>1.000000</td>\n      <td>1.980000</td>\n      <td>11.600000</td>\n      <td>7.000000</td>\n      <td>15.000000</td>\n      <td>3.000000</td>\n      <td>15.000000</td>\n    </tr>\n    <tr>\n      <th>75%</th>\n      <td>2.000000</td>\n      <td>1.000000</td>\n      <td>3.700000</td>\n      <td>17.800000</td>\n      <td>10.000000</td>\n      <td>22.000000</td>\n      <td>5.000000</td>\n      <td>19.000000</td>\n    </tr>\n    <tr>\n      <th>max</th>\n      <td>2.000000</td>\n      <td>6.000000</td>\n      <td>30.000000</td>\n      <td>211.000000</td>\n      <td>12.000000</td>\n      <td>30.000000</td>\n      <td>6.000000</td>\n      <td>23.000000</td>\n    </tr>\n  </tbody>\n</table>\n</div>"
          },
          "metadata": {}
        }
      ],
      "execution_count": 7,
      "metadata": {
        "gather": {
          "logged": 1664455095204
        }
      }
    },
    {
      "cell_type": "markdown",
      "source": [
        "## Configure WorkSpace"
      ],
      "metadata": {}
    },
    {
      "cell_type": "code",
      "source": [
        "from azureml.core.workspace import Workspace\n",
        "ws = Workspace.from_config()"
      ],
      "outputs": [],
      "execution_count": 8,
      "metadata": {
        "gather": {
          "logged": 1664455095594
        }
      }
    },
    {
      "cell_type": "markdown",
      "source": [
        "### Split the data into train and test sets\n"
      ],
      "metadata": {}
    },
    {
      "cell_type": "code",
      "source": [
        "from sklearn.model_selection import train_test_split\n",
        "\n",
        "y_df = final_df.pop(\"totalAmount\")\n",
        "x_df = final_df\n",
        "\n",
        "x_train, x_test, y_train, y_test = train_test_split(x_df, y_df, test_size=0.2, random_state=223)"
      ],
      "outputs": [],
      "execution_count": 9,
      "metadata": {
        "gather": {
          "logged": 1664455097413
        }
      }
    },
    {
      "cell_type": "markdown",
      "source": [
        "## Automatically train a model"
      ],
      "metadata": {}
    },
    {
      "cell_type": "markdown",
      "source": [
        "#### Setup the logging and specify:\n",
        "Property \tValue in this tutorial \tDescription\n",
        "iteration_timeout_minutes \t2 \tTime limit in minutes for each iteration. Reduce this value to decrease total runtime.\n",
        "iterations \t20 \tNumber of iterations. In each iteration, a new machine learning model is trained with your data. This is the primary value that affects total run time.\n",
        "primary_metric \tspearman_correlation \tMetric that you want to optimize. The best-fit model will be chosen based on this metric.\n",
        "preprocess \tTrue \tBy using True, the experiment can preprocess the input data (handling missing data, converting text to numeric, etc.)\n",
        "verbosity \tlogging.INFO \tControls the level of logging.\n",
        "n_cross_validations \t5 \tNumber of cross-validation splits to perform when validation data is not specified."
      ],
      "metadata": {}
    },
    {
      "cell_type": "code",
      "source": [
        "import logging\n",
        "\n",
        "automl_settings = {\n",
        "    \"iteration_timeout_minutes\": 2,\n",
        "    \"iterations\": 20,\n",
        "    \"primary_metric\": 'spearman_correlation',\n",
        "    \"preprocess\": True,\n",
        "    \"verbosity\": logging.INFO,\n",
        "    \"n_cross_validations\": 5\n",
        "}"
      ],
      "outputs": [],
      "execution_count": 10,
      "metadata": {
        "gather": {
          "logged": 1664455097505
        }
      }
    },
    {
      "cell_type": "markdown",
      "source": [
        "#### Parametrize AutoConfingML"
      ],
      "metadata": {}
    },
    {
      "cell_type": "code",
      "source": [
        "from azureml.train.automl import AutoMLConfig\n",
        "\n",
        "automl_config = AutoMLConfig(task='regression',\n",
        "                             debug_log='automated_ml_errors.log',\n",
        "                             X=x_train.values,\n",
        "                             y=y_train.values.flatten(),\n",
        "                             **automl_settings)"
      ],
      "outputs": [
        {
          "output_type": "stream",
          "name": "stderr",
          "text": "WARNING:root:Parameter `preprocess` will be deprecated. Use `featurization`\nWARNING:root:Detected both `preprocess` and `featurization`. `preprocess` is being deprecated and will be overridden by `featurization` setting.\nWARNING:root:The AutoMLConfig parameters, X and y, will soon be deprecated. Please refer to our documentation for the latest interface: https://aka.ms/AutoMLConfig\n"
        }
      ],
      "execution_count": 11,
      "metadata": {
        "gather": {
          "logged": 1664455097595
        }
      }
    },
    {
      "cell_type": "markdown",
      "source": [
        "### Train the automatic regression model"
      ],
      "metadata": {}
    },
    {
      "cell_type": "code",
      "source": [
        "from azureml.core.experiment import Experiment\n",
        "experiment = Experiment(ws, \"taxi-experiment\")\n",
        "local_run = experiment.submit(automl_config, show_output=True)"
      ],
      "outputs": [
        {
          "output_type": "stream",
          "name": "stdout",
          "text": "No run_configuration provided, running on local with default configuration\nRunning in the active local environment.\n"
        },
        {
          "output_type": "display_data",
          "data": {
            "text/plain": "<IPython.core.display.HTML object>",
            "text/html": "<table style=\"width:100%\"><tr><th>Experiment</th><th>Id</th><th>Type</th><th>Status</th><th>Details Page</th><th>Docs Page</th></tr><tr><td>taxi-experiment</td><td>AutoML_38362b20-7ffe-4d1d-a924-226bee893a63</td><td>automl</td><td>Preparing</td><td><a href=\"https://ml.azure.com/runs/AutoML_38362b20-7ffe-4d1d-a924-226bee893a63?wsid=/subscriptions/7bb22fd9-06b5-445f-b8d4-570117630941/resourcegroups/pywsml_rs/workspaces/pywsml&amp;tid=1a8df2d8-1faa-4340-98d8-8a7079d26633\" target=\"_blank\" rel=\"noopener\">Link to Azure Machine Learning studio</a></td><td><a href=\"https://docs.microsoft.com/en-us/python/api/overview/azure/ml/intro?view=azure-ml-py\" target=\"_blank\" rel=\"noopener\">Link to Documentation</a></td></tr></table>"
          },
          "metadata": {}
        },
        {
          "output_type": "stream",
          "name": "stdout",
          "text": "Current status: DatasetEvaluation. Gathering dataset statistics.\nCurrent status: FeaturesGeneration. Generating features for the dataset.\nCurrent status: DatasetFeaturization. Beginning to fit featurizers and featurize the dataset.\nCurrent status: DatasetFeaturizationCompleted. Completed fit featurizers and featurizing the dataset.\nCurrent status: DatasetCrossValidationSplit. Generating individually featurized CV splits.\n\n********************************************************************************************\nDATA GUARDRAILS: \n\nTYPE:         Missing feature values imputation\nSTATUS:       PASSED\nDESCRIPTION:  No feature missing values were detected in the training data.\n              Learn more about missing value imputation: https://aka.ms/AutomatedMLFeaturization\n\n********************************************************************************************\n\nTYPE:         High cardinality feature detection\nSTATUS:       PASSED\nDESCRIPTION:  Your inputs were analyzed, and no high cardinality features were detected.\n              Learn more about high cardinality feature handling: https://aka.ms/AutomatedMLFeaturization\n\n********************************************************************************************\nCurrent status: ModelSelection. Beginning model selection.\n\n********************************************************************************************\nITER: The iteration being evaluated.\nPIPELINE: A summary description of the pipeline being evaluated.\nDURATION: Time taken for the current iteration.\nMETRIC: The result of computing score on the fitted pipeline.\nBEST: The best observed score thus far.\n********************************************************************************************\n\n ITER   PIPELINE                                       DURATION            METRIC      BEST\n    0   MaxAbsScaler LightGBM                          0:00:30             0.9478    0.9478\n    1   MaxAbsScaler XGBoostRegressor                  0:00:33             0.9432    0.9478\n    2   RobustScaler LightGBM                          0:00:31             0.9461    0.9478\n    3   RobustScaler ExtremeRandomTrees                0:00:39             0.9047    0.9478\n    4   MinMaxScaler ExtremeRandomTrees                0:00:31             0.9462    0.9478\n    5   MaxAbsScaler ElasticNet                        0:00:27             0.9443    0.9478\n    6   StandardScalerWrapper XGBoostRegressor         0:00:32             0.9465    0.9478\n    7   StandardScalerWrapper XGBoostRegressor         0:00:28             0.9440    0.9478\n    8   StandardScalerWrapper ExtremeRandomTrees       0:00:27             0.8743    0.9478\n    9   StandardScalerWrapper RandomForest             0:00:34             0.9462    0.9478\n   10   RobustScaler ExtremeRandomTrees                0:00:27             0.8948    0.9478\n   11   MinMaxScaler RandomForest                      0:00:28             0.9425    0.9478\n   12                                                  0:00:11                nan    0.9478\nERROR: SubprocessException:\n\tMessage: Subprocess (pid 24008) killed by unhandled signal 11 (SIGSEGV).\n\tInnerException: None\n\tErrorResponse \n{\n    \"error\": {\n        \"code\": \"SystemError\",\n        \"message\": \"Encountered an internal AutoML error. Error Message/Code: Subprocess (pid 24008) killed by unhandled signal 11 (SIGSEGV).. Additional Info: SubprocessException:\\n\\tMessage: Subprocess (pid 24008) killed by unhandled signal 11 (SIGSEGV).\\n\\tInnerException: None\\n\\tErrorResponse \\n{\\n    \\\"error\\\": {\\n        \\\"code\\\": \\\"ProcessKilled\\\",\\n        \\\"message\\\": \\\"Subprocess (pid 24008) killed by unhandled signal 11 (SIGSEGV).\\\"\\n    }\\n}\",\n        \"details_uri\": \"https://aka.ms/automltroubleshoot\",\n        \"inner_error\": {\n            \"code\": \"ClientError\",\n            \"inner_error\": {\n                \"code\": \"AutoMLInternal\"\n            }\n        }\n    }\n}\n   13   MinMaxScaler ExtremeRandomTrees                0:00:28             0.9013    0.9478\n   14   StandardScalerWrapper RandomForest             0:00:29             0.9455    0.9478\n   15   StandardScalerWrapper ExtremeRandomTrees       0:00:33             0.9463    0.9478\n   16   RobustScaler RandomForest                      0:00:29             0.9465    0.9478\n   17   StandardScalerWrapper DecisionTree             0:00:27             0.9449    0.9478\n   18   VotingEnsemble                                 0:00:37             0.9486    0.9486\n   19   StackEnsemble                                  0:00:39             0.9482    0.9486\n********************************************************************************************\nCurrent status: BestRunExplainModel. Best run model explanations started\nCurrent status: ModelExplanationDataSetSetup. Model explanations data setup completed\nCurrent status: PickSurrogateModel. Choosing LightGBM as the surrogate model for explanations\nCurrent status: EngineeredFeatureExplanations. Computation of engineered features started\nCurrent status: EngineeredFeatureExplanations. Computation of engineered features completed\nCurrent status: RawFeaturesExplanations. Computation of raw features started\nCurrent status: RawFeaturesExplanations. Computation of raw features completed\nCurrent status: BestRunExplainModel. Best run model explanations completed\n********************************************************************************************\n"
        },
        {
          "output_type": "stream",
          "name": "stderr",
          "text": "INFO:interpret_community.common.explanation_utils:Using default datastore for uploads\n"
        }
      ],
      "execution_count": 12,
      "metadata": {
        "gather": {
          "logged": 1664455848023
        }
      }
    },
    {
      "cell_type": "markdown",
      "source": [
        "## Explore the results\n",
        "\n",
        "Explore the results of automatic training with a Jupyter widget. The widget allows you to see a graph and table of all individual run iterations, along with training accuracy metrics and metadata. Additionally, you can filter on different accuracy metrics than your primary metric with the dropdown selector."
      ],
      "metadata": {}
    },
    {
      "cell_type": "code",
      "source": [
        "from azureml.widgets import RunDetails\n",
        "RunDetails(local_run).show()"
      ],
      "outputs": [
        {
          "output_type": "display_data",
          "data": {
            "text/plain": "_AutoMLWidget(widget_settings={'childWidgetDisplay': 'popup', 'send_telemetry': False, 'log_level': 'INFO', 's…",
            "application/vnd.jupyter.widget-view+json": {
              "version_major": 2,
              "version_minor": 0,
              "model_id": "e18a643e7bb54cea8a74f4e04df14834"
            }
          },
          "metadata": {}
        },
        {
          "output_type": "display_data",
          "data": {
            "application/aml.mini.widget.v1": "{\"status\": \"Completed\", \"workbench_run_details_uri\": \"https://ml.azure.com/runs/AutoML_38362b20-7ffe-4d1d-a924-226bee893a63?wsid=/subscriptions/7bb22fd9-06b5-445f-b8d4-570117630941/resourcegroups/pywsml_rs/workspaces/pywsml&tid=1a8df2d8-1faa-4340-98d8-8a7079d26633\", \"run_id\": \"AutoML_38362b20-7ffe-4d1d-a924-226bee893a63\", \"run_properties\": {\"run_id\": \"AutoML_38362b20-7ffe-4d1d-a924-226bee893a63\", \"created_utc\": \"2022-09-29T12:39:02.878494Z\", \"properties\": {\"num_iterations\": \"20\", \"training_type\": \"TrainFull\", \"acquisition_function\": \"EI\", \"primary_metric\": \"spearman_correlation\", \"train_split\": \"0\", \"acquisition_parameter\": \"0\", \"num_cross_validation\": \"5\", \"target\": \"local\", \"AMLSettingsJsonString\": \"{\\\"path\\\":null,\\\"name\\\":\\\"taxi-experiment\\\",\\\"subscription_id\\\":\\\"7bb22fd9-06b5-445f-b8d4-570117630941\\\",\\\"resource_group\\\":\\\"pywsml_rs\\\",\\\"workspace_name\\\":\\\"pywsml\\\",\\\"region\\\":\\\"westeurope\\\",\\\"compute_target\\\":\\\"local\\\",\\\"spark_service\\\":null,\\\"azure_service\\\":\\\"Microsoft.AzureNotebookVM\\\",\\\"many_models\\\":false,\\\"pipeline_fetch_max_batch_size\\\":1,\\\"enable_batch_run\\\":false,\\\"enable_run_restructure\\\":false,\\\"start_auxiliary_runs_before_parent_complete\\\":false,\\\"enable_code_generation\\\":false,\\\"iterations\\\":20,\\\"primary_metric\\\":\\\"spearman_correlation\\\",\\\"task_type\\\":\\\"regression\\\",\\\"positive_label\\\":null,\\\"data_script\\\":null,\\\"test_size\\\":0.0,\\\"test_include_predictions_only\\\":false,\\\"validation_size\\\":0.0,\\\"n_cross_validations\\\":5,\\\"y_min\\\":null,\\\"y_max\\\":null,\\\"num_classes\\\":null,\\\"featurization\\\":\\\"auto\\\",\\\"_ignore_package_version_incompatibilities\\\":false,\\\"is_timeseries\\\":false,\\\"max_cores_per_iteration\\\":1,\\\"max_concurrent_iterations\\\":1,\\\"iteration_timeout_minutes\\\":2,\\\"mem_in_mb\\\":null,\\\"enforce_time_on_windows\\\":false,\\\"experiment_timeout_minutes\\\":8640,\\\"experiment_exit_score\\\":null,\\\"partition_column_names\\\":null,\\\"whitelist_models\\\":null,\\\"blacklist_algos\\\":[\\\"TensorFlowDNN\\\",\\\"TensorFlowLinearRegressor\\\"],\\\"supported_models\\\":[\\\"KNN\\\",\\\"SGD\\\",\\\"ExtremeRandomTrees\\\",\\\"TensorFlowDNN\\\",\\\"LassoLars\\\",\\\"LightGBM\\\",\\\"ElasticNet\\\",\\\"TensorFlowLinearRegressor\\\",\\\"FastLinearRegressor\\\",\\\"XGBoostRegressor\\\",\\\"RandomForest\\\",\\\"TabnetRegressor\\\",\\\"OnlineGradientDescentRegressor\\\",\\\"GradientBoosting\\\",\\\"DecisionTree\\\"],\\\"private_models\\\":[],\\\"auto_blacklist\\\":true,\\\"blacklist_samples_reached\\\":false,\\\"exclude_nan_labels\\\":true,\\\"verbosity\\\":20,\\\"_debug_log\\\":\\\"automated_ml_errors.log\\\",\\\"show_warnings\\\":false,\\\"model_explainability\\\":true,\\\"service_url\\\":null,\\\"sdk_url\\\":null,\\\"sdk_packages\\\":null,\\\"enable_onnx_compatible_models\\\":false,\\\"enable_split_onnx_featurizer_estimator_models\\\":false,\\\"vm_type\\\":null,\\\"telemetry_verbosity\\\":20,\\\"send_telemetry\\\":true,\\\"enable_dnn\\\":false,\\\"scenario\\\":\\\"SDK-1.13.0\\\",\\\"environment_label\\\":null,\\\"save_mlflow\\\":false,\\\"enable_categorical_indicators\\\":false,\\\"force_text_dnn\\\":false,\\\"enable_feature_sweeping\\\":true,\\\"enable_early_stopping\\\":true,\\\"early_stopping_n_iters\\\":10,\\\"arguments\\\":null,\\\"dataset_id\\\":null,\\\"hyperdrive_config\\\":null,\\\"validation_dataset_id\\\":null,\\\"run_source\\\":null,\\\"metrics\\\":null,\\\"enable_metric_confidence\\\":false,\\\"enable_ensembling\\\":true,\\\"enable_stack_ensembling\\\":true,\\\"ensemble_iterations\\\":15,\\\"enable_tf\\\":false,\\\"enable_subsampling\\\":false,\\\"subsample_seed\\\":null,\\\"enable_nimbusml\\\":false,\\\"enable_streaming\\\":false,\\\"force_streaming\\\":false,\\\"track_child_runs\\\":true,\\\"allowed_private_models\\\":[],\\\"label_column_name\\\":null,\\\"weight_column_name\\\":null,\\\"cv_split_column_names\\\":null,\\\"enable_local_managed\\\":false,\\\"_local_managed_run_id\\\":null,\\\"cost_mode\\\":1,\\\"lag_length\\\":0,\\\"metric_operation\\\":\\\"maximize\\\",\\\"preprocess\\\":true}\", \"DataPrepJsonString\": null, \"EnableSubsampling\": \"False\", \"runTemplate\": \"AutoML\", \"azureml.runsource\": \"automl\", \"display_task_type\": \"regression\", \"dependencies_versions\": \"{\\\"azureml-widgets\\\": \\\"1.40.0\\\", \\\"azureml-training-tabular\\\": \\\"1.40.0\\\", \\\"azureml-train\\\": \\\"1.40.0\\\", \\\"azureml-train-restclients-hyperdrive\\\": \\\"1.40.0\\\", \\\"azureml-train-core\\\": \\\"1.40.0\\\", \\\"azureml-train-automl\\\": \\\"1.40.0\\\", \\\"azureml-train-automl-runtime\\\": \\\"1.40.0.post1\\\", \\\"azureml-train-automl-client\\\": \\\"1.40.0\\\", \\\"azureml-tensorboard\\\": \\\"1.40.0\\\", \\\"azureml-telemetry\\\": \\\"1.40.0\\\", \\\"azureml-sdk\\\": \\\"1.40.0\\\", \\\"azureml-samples\\\": \\\"0+unknown\\\", \\\"azureml-responsibleai\\\": \\\"1.40.0\\\", \\\"azureml-pipeline\\\": \\\"1.40.0\\\", \\\"azureml-pipeline-steps\\\": \\\"1.40.0\\\", \\\"azureml-pipeline-core\\\": \\\"1.40.0\\\", \\\"azureml-opendatasets\\\": \\\"1.40.0\\\", \\\"azureml-mlflow\\\": \\\"1.40.0\\\", \\\"azureml-interpret\\\": \\\"1.40.0\\\", \\\"azureml-inference-server-http\\\": \\\"0.4.11\\\", \\\"azureml-explain-model\\\": \\\"1.40.0\\\", \\\"azureml-defaults\\\": \\\"1.40.0\\\", \\\"azureml-dataset-runtime\\\": \\\"1.40.0\\\", \\\"azureml-dataprep\\\": \\\"3.0.0\\\", \\\"azureml-dataprep-rslex\\\": \\\"2.4.0\\\", \\\"azureml-dataprep-native\\\": \\\"38.0.0\\\", \\\"azureml-datadrift\\\": \\\"1.40.0\\\", \\\"azureml-core\\\": \\\"1.40.0\\\", \\\"azureml-contrib-services\\\": \\\"1.40.0\\\", \\\"azureml-contrib-server\\\": \\\"1.40.0\\\", \\\"azureml-contrib-reinforcementlearning\\\": \\\"1.40.0\\\", \\\"azureml-contrib-pipeline-steps\\\": \\\"1.40.0\\\", \\\"azureml-contrib-notebook\\\": \\\"1.40.0\\\", \\\"azureml-contrib-fairness\\\": \\\"1.40.0\\\", \\\"azureml-contrib-dataset\\\": \\\"1.40.0\\\", \\\"azureml-contrib-automl-pipeline-steps\\\": \\\"1.40.0\\\", \\\"azureml-cli-common\\\": \\\"1.40.0\\\", \\\"azureml-automl-runtime\\\": \\\"1.40.0\\\", \\\"azureml-automl-dnn-nlp\\\": \\\"1.40.0\\\", \\\"azureml-automl-core\\\": \\\"1.40.0\\\", \\\"azureml-accel-models\\\": \\\"1.40.0\\\"}\", \"_aml_system_scenario_identification\": \"Local.Parent\", \"ClientSdkVersion\": \"1.40.0\", \"ClientType\": \"SDK\", \"environment_cpu_name\": \"AzureML-AutoML\", \"environment_cpu_label\": \"prod\", \"environment_gpu_name\": \"AzureML-AutoML-GPU\", \"environment_gpu_label\": \"prod\", \"root_attribution\": \"automl\", \"attribution\": \"AutoML\", \"Orchestrator\": \"AutoML\", \"_azureml.ComputeTargetType\": \"local\", \"ProblemInfoJsonString\": \"{\\\"dataset_num_categorical\\\": 0, \\\"is_sparse\\\": false, \\\"subsampling\\\": false, \\\"has_extra_col\\\": true, \\\"dataset_classes\\\": 1023, \\\"dataset_features\\\": 7, \\\"dataset_samples\\\": 18567, \\\"single_frequency_class_detected\\\": false}\"}, \"tags\": {\"model_explain_run\": \"best_run\", \"_aml_system_automl_run_workspace_id\": \"b977734d-b04d-46ff-96a5-e5d860b979d5\", \"best_score\": \"0.9486211972338616\", \"best_pipeline\": \"VotingEnsemble\", \"automl_best_child_run_id\": \"AutoML_38362b20-7ffe-4d1d-a924-226bee893a63_18\", \"model_explain_best_run_child_id\": \"AutoML_38362b20-7ffe-4d1d-a924-226bee893a63_18\"}, \"end_time_utc\": \"2022-09-29T12:49:46.061813Z\", \"status\": \"Completed\", \"log_files\": {}, \"log_groups\": [], \"run_duration\": \"0:10:43\", \"run_number\": \"1664455142\", \"run_queued_details\": {\"status\": \"Completed\", \"details\": null}}, \"child_runs\": [{\"run_id\": \"AutoML_38362b20-7ffe-4d1d-a924-226bee893a63_0\", \"run_number\": 1664455152, \"metric\": null, \"status\": \"Completed\", \"run_type\": null, \"training_percent\": \"100\", \"start_time\": \"2022-09-29T12:39:12.455642Z\", \"end_time\": \"2022-09-29T12:39:42.612397Z\", \"created_time\": \"2022-09-29T12:39:12.348078Z\", \"created_time_dt\": \"2022-09-29T12:39:12.348078Z\", \"duration\": \"0:00:30\", \"iteration\": \"0\", \"goal\": \"spearman_correlation_max\", \"run_name\": \"MaxAbsScaler, LightGBM\", \"run_properties\": \"copy=True\", \"primary_metric\": 0.94782561, \"best_metric\": 0.94782561}, {\"run_id\": \"AutoML_38362b20-7ffe-4d1d-a924-226bee893a63_1\", \"run_number\": 1664455182, \"metric\": null, \"status\": \"Completed\", \"run_type\": null, \"training_percent\": \"100\", \"start_time\": \"2022-09-29T12:39:42.960284Z\", \"end_time\": \"2022-09-29T12:40:16.723875Z\", \"created_time\": \"2022-09-29T12:39:42.856781Z\", \"created_time_dt\": \"2022-09-29T12:39:42.856781Z\", \"duration\": \"0:00:33\", \"iteration\": \"1\", \"goal\": \"spearman_correlation_max\", \"run_name\": \"MaxAbsScaler, XGBoostRegressor\", \"run_properties\": \"copy=True\", \"primary_metric\": 0.9432111, \"best_metric\": 0.94782561}, {\"run_id\": \"AutoML_38362b20-7ffe-4d1d-a924-226bee893a63_2\", \"run_number\": 1664455217, \"metric\": null, \"status\": \"Completed\", \"run_type\": null, \"training_percent\": \"100\", \"start_time\": \"2022-09-29T12:40:17.53128Z\", \"end_time\": \"2022-09-29T12:40:48.407259Z\", \"created_time\": \"2022-09-29T12:40:17.391047Z\", \"created_time_dt\": \"2022-09-29T12:40:17.391047Z\", \"duration\": \"0:00:31\", \"iteration\": \"2\", \"goal\": \"spearman_correlation_max\", \"run_name\": \"RobustScaler, LightGBM\", \"run_properties\": \"copy=True, quantile_range=[25, 75], with_centering=False,\\n             with_scaling=False\", \"primary_metric\": 0.94606922, \"best_metric\": 0.94782561}, {\"run_id\": \"AutoML_38362b20-7ffe-4d1d-a924-226bee893a63_3\", \"run_number\": 1664455249, \"metric\": null, \"status\": \"Completed\", \"run_type\": null, \"training_percent\": \"100\", \"start_time\": \"2022-09-29T12:40:49.894317Z\", \"end_time\": \"2022-09-29T12:41:29.584791Z\", \"created_time\": \"2022-09-29T12:40:49.771164Z\", \"created_time_dt\": \"2022-09-29T12:40:49.771164Z\", \"duration\": \"0:00:39\", \"iteration\": \"3\", \"goal\": \"spearman_correlation_max\", \"run_name\": \"RobustScaler, ExtremeRandomTrees\", \"run_properties\": \"copy=True, quantile_range=[10, 90], with_centering=False,\\n             with_scaling=False\", \"primary_metric\": 0.90472784, \"best_metric\": 0.94782561}, {\"run_id\": \"AutoML_38362b20-7ffe-4d1d-a924-226bee893a63_4\", \"run_number\": 1664455290, \"metric\": null, \"status\": \"Completed\", \"run_type\": null, \"training_percent\": \"100\", \"start_time\": \"2022-09-29T12:41:31.024093Z\", \"end_time\": \"2022-09-29T12:42:02.193563Z\", \"created_time\": \"2022-09-29T12:41:30.898265Z\", \"created_time_dt\": \"2022-09-29T12:41:30.898265Z\", \"duration\": \"0:00:31\", \"iteration\": \"4\", \"goal\": \"spearman_correlation_max\", \"run_name\": \"MinMaxScaler, ExtremeRandomTrees\", \"run_properties\": \"copy=True, feature_range=(0, 1\", \"primary_metric\": 0.94621759, \"best_metric\": 0.94782561}, {\"run_id\": \"AutoML_38362b20-7ffe-4d1d-a924-226bee893a63_5\", \"run_number\": 1664455323, \"metric\": null, \"status\": \"Completed\", \"run_type\": null, \"training_percent\": \"100\", \"start_time\": \"2022-09-29T12:42:03.89871Z\", \"end_time\": \"2022-09-29T12:42:31.159028Z\", \"created_time\": \"2022-09-29T12:42:03.783895Z\", \"created_time_dt\": \"2022-09-29T12:42:03.783895Z\", \"duration\": \"0:00:27\", \"iteration\": \"5\", \"goal\": \"spearman_correlation_max\", \"run_name\": \"MaxAbsScaler, ElasticNet\", \"run_properties\": \"copy=True\", \"primary_metric\": 0.94433221, \"best_metric\": 0.94782561}, {\"run_id\": \"AutoML_38362b20-7ffe-4d1d-a924-226bee893a63_6\", \"run_number\": 1664455352, \"metric\": null, \"status\": \"Completed\", \"run_type\": null, \"training_percent\": \"100\", \"start_time\": \"2022-09-29T12:42:32.607953Z\", \"end_time\": \"2022-09-29T12:43:05.093464Z\", \"created_time\": \"2022-09-29T12:42:32.492929Z\", \"created_time_dt\": \"2022-09-29T12:42:32.492929Z\", \"duration\": \"0:00:32\", \"iteration\": \"6\", \"goal\": \"spearman_correlation_max\", \"run_name\": \"StandardScalerWrapper, XGBoostRegressor\", \"run_properties\": \"copy=True, with_mean=False, with_std=False\", \"primary_metric\": 0.94650412, \"best_metric\": 0.94782561}, {\"run_id\": \"AutoML_38362b20-7ffe-4d1d-a924-226bee893a63_7\", \"run_number\": 1664455386, \"metric\": null, \"status\": \"Completed\", \"run_type\": null, \"training_percent\": \"100\", \"start_time\": \"2022-09-29T12:43:06.506092Z\", \"end_time\": \"2022-09-29T12:43:34.976042Z\", \"created_time\": \"2022-09-29T12:43:06.384683Z\", \"created_time_dt\": \"2022-09-29T12:43:06.384683Z\", \"duration\": \"0:00:28\", \"iteration\": \"7\", \"goal\": \"spearman_correlation_max\", \"run_name\": \"StandardScalerWrapper, XGBoostRegressor\", \"run_properties\": \"copy=True, with_mean=False, with_std=False\", \"primary_metric\": 0.94395404, \"best_metric\": 0.94782561}, {\"run_id\": \"AutoML_38362b20-7ffe-4d1d-a924-226bee893a63_8\", \"run_number\": 1664455416, \"metric\": null, \"status\": \"Completed\", \"run_type\": null, \"training_percent\": \"100\", \"start_time\": \"2022-09-29T12:43:36.563721Z\", \"end_time\": \"2022-09-29T12:44:04.420854Z\", \"created_time\": \"2022-09-29T12:43:36.438121Z\", \"created_time_dt\": \"2022-09-29T12:43:36.438121Z\", \"duration\": \"0:00:27\", \"iteration\": \"8\", \"goal\": \"spearman_correlation_max\", \"run_name\": \"StandardScalerWrapper, ExtremeRandomTrees\", \"run_properties\": \"copy=True, with_mean=False, with_std=False\", \"primary_metric\": 0.87428706, \"best_metric\": 0.94782561}, {\"run_id\": \"AutoML_38362b20-7ffe-4d1d-a924-226bee893a63_9\", \"run_number\": 1664455445, \"metric\": null, \"status\": \"Completed\", \"run_type\": null, \"training_percent\": \"100\", \"start_time\": \"2022-09-29T12:44:05.945332Z\", \"end_time\": \"2022-09-29T12:44:40.098081Z\", \"created_time\": \"2022-09-29T12:44:05.8422Z\", \"created_time_dt\": \"2022-09-29T12:44:05.8422Z\", \"duration\": \"0:00:34\", \"iteration\": \"9\", \"goal\": \"spearman_correlation_max\", \"run_name\": \"StandardScalerWrapper, RandomForest\", \"run_properties\": \"copy=True, with_mean=True, with_std=False\", \"primary_metric\": 0.94624562, \"best_metric\": 0.94782561}, {\"run_id\": \"AutoML_38362b20-7ffe-4d1d-a924-226bee893a63_10\", \"run_number\": 1664455481, \"metric\": null, \"status\": \"Completed\", \"run_type\": null, \"training_percent\": \"100\", \"start_time\": \"2022-09-29T12:44:41.894514Z\", \"end_time\": \"2022-09-29T12:45:09.73789Z\", \"created_time\": \"2022-09-29T12:44:41.770657Z\", \"created_time_dt\": \"2022-09-29T12:44:41.770657Z\", \"duration\": \"0:00:27\", \"iteration\": \"10\", \"goal\": \"spearman_correlation_max\", \"run_name\": \"RobustScaler, ExtremeRandomTrees\", \"run_properties\": \"copy=True, quantile_range=[10, 90], with_centering=False,\\n             with_scaling=False\", \"primary_metric\": 0.89483662, \"best_metric\": 0.94782561}, {\"run_id\": \"AutoML_38362b20-7ffe-4d1d-a924-226bee893a63_11\", \"run_number\": 1664455511, \"metric\": null, \"status\": \"Completed\", \"run_type\": null, \"training_percent\": \"100\", \"start_time\": \"2022-09-29T12:45:11.281255Z\", \"end_time\": \"2022-09-29T12:45:39.543349Z\", \"created_time\": \"2022-09-29T12:45:11.158454Z\", \"created_time_dt\": \"2022-09-29T12:45:11.158454Z\", \"duration\": \"0:00:28\", \"iteration\": \"11\", \"goal\": \"spearman_correlation_max\", \"run_name\": \"MinMaxScaler, RandomForest\", \"run_properties\": \"copy=True, feature_range=(0, 1\", \"primary_metric\": 0.94249355, \"best_metric\": 0.94782561}, {\"run_id\": \"AutoML_38362b20-7ffe-4d1d-a924-226bee893a63_12\", \"run_number\": 1664455540, \"metric\": null, \"status\": \"Failed\", \"run_type\": null, \"training_percent\": \"100\", \"start_time\": \"2022-09-29T12:45:41.037368Z\", \"end_time\": \"2022-09-29T12:45:52.182259Z\", \"created_time\": \"2022-09-29T12:45:40.921611Z\", \"created_time_dt\": \"2022-09-29T12:45:40.921611Z\", \"duration\": \"0:00:11\", \"iteration\": \"12\", \"goal\": \"spearman_correlation_max\", \"run_name\": \"MinMaxScaler, RandomForest\", \"run_properties\": null}, {\"run_id\": \"AutoML_38362b20-7ffe-4d1d-a924-226bee893a63_13\", \"run_number\": 1664455553, \"metric\": null, \"status\": \"Completed\", \"run_type\": null, \"training_percent\": \"100\", \"start_time\": \"2022-09-29T12:45:53.552708Z\", \"end_time\": \"2022-09-29T12:46:22.195381Z\", \"created_time\": \"2022-09-29T12:45:53.440499Z\", \"created_time_dt\": \"2022-09-29T12:45:53.440499Z\", \"duration\": \"0:00:28\", \"iteration\": \"13\", \"goal\": \"spearman_correlation_max\", \"run_name\": \"MinMaxScaler, ExtremeRandomTrees\", \"run_properties\": \"copy=True, feature_range=(0, 1\", \"primary_metric\": 0.90126024, \"best_metric\": 0.94782561}, {\"run_id\": \"AutoML_38362b20-7ffe-4d1d-a924-226bee893a63_14\", \"run_number\": 1664455583, \"metric\": null, \"status\": \"Completed\", \"run_type\": null, \"training_percent\": \"100\", \"start_time\": \"2022-09-29T12:46:23.588806Z\", \"end_time\": \"2022-09-29T12:46:53.200778Z\", \"created_time\": \"2022-09-29T12:46:23.461306Z\", \"created_time_dt\": \"2022-09-29T12:46:23.461306Z\", \"duration\": \"0:00:29\", \"iteration\": \"14\", \"goal\": \"spearman_correlation_max\", \"run_name\": \"StandardScalerWrapper, RandomForest\", \"run_properties\": \"copy=True, with_mean=False, with_std=True\", \"primary_metric\": 0.94551461, \"best_metric\": 0.94782561}, {\"run_id\": \"AutoML_38362b20-7ffe-4d1d-a924-226bee893a63_15\", \"run_number\": 1664455614, \"metric\": null, \"status\": \"Completed\", \"run_type\": null, \"training_percent\": \"100\", \"start_time\": \"2022-09-29T12:46:54.580508Z\", \"end_time\": \"2022-09-29T12:47:27.860527Z\", \"created_time\": \"2022-09-29T12:46:54.445175Z\", \"created_time_dt\": \"2022-09-29T12:46:54.445175Z\", \"duration\": \"0:00:33\", \"iteration\": \"15\", \"goal\": \"spearman_correlation_max\", \"run_name\": \"StandardScalerWrapper, ExtremeRandomTrees\", \"run_properties\": \"copy=True, with_mean=True, with_std=False\", \"primary_metric\": 0.94632363, \"best_metric\": 0.94782561}, {\"run_id\": \"AutoML_38362b20-7ffe-4d1d-a924-226bee893a63_16\", \"run_number\": 1664455649, \"metric\": null, \"status\": \"Completed\", \"run_type\": null, \"training_percent\": \"100\", \"start_time\": \"2022-09-29T12:47:29.363572Z\", \"end_time\": \"2022-09-29T12:47:58.750268Z\", \"created_time\": \"2022-09-29T12:47:29.242768Z\", \"created_time_dt\": \"2022-09-29T12:47:29.242768Z\", \"duration\": \"0:00:29\", \"iteration\": \"16\", \"goal\": \"spearman_correlation_max\", \"run_name\": \"RobustScaler, RandomForest\", \"run_properties\": \"copy=True, quantile_range=[25, 75], with_centering=True,\\n             with_scaling=False\", \"primary_metric\": 0.94651451, \"best_metric\": 0.94782561}, {\"run_id\": \"AutoML_38362b20-7ffe-4d1d-a924-226bee893a63_17\", \"run_number\": 1664455679, \"metric\": null, \"status\": \"Completed\", \"run_type\": null, \"training_percent\": \"100\", \"start_time\": \"2022-09-29T12:48:00.61705Z\", \"end_time\": \"2022-09-29T12:48:28.387033Z\", \"created_time\": \"2022-09-29T12:47:59.985356Z\", \"created_time_dt\": \"2022-09-29T12:47:59.985356Z\", \"duration\": \"0:00:28\", \"iteration\": \"17\", \"goal\": \"spearman_correlation_max\", \"run_name\": \"StandardScalerWrapper, DecisionTree\", \"run_properties\": \"copy=True, with_mean=False, with_std=True\", \"primary_metric\": 0.94488685, \"best_metric\": 0.94782561}, {\"run_id\": \"AutoML_38362b20-7ffe-4d1d-a924-226bee893a63_18\", \"run_number\": 1664455708, \"metric\": null, \"status\": \"Completed\", \"run_type\": null, \"training_percent\": \"100\", \"start_time\": \"2022-09-29T12:48:28.751356Z\", \"end_time\": \"2022-09-29T12:49:06.280066Z\", \"created_time\": \"2022-09-29T12:48:28.6526Z\", \"created_time_dt\": \"2022-09-29T12:48:28.6526Z\", \"duration\": \"0:00:37\", \"iteration\": \"18\", \"goal\": \"spearman_correlation_max\", \"run_name\": \"VotingEnsemble\", \"run_properties\": \"estimators=[('0', Pipeline(memory=None, steps=[('maxabsscaler', MaxAbsScaler(copy=True\", \"primary_metric\": 0.9486212, \"best_metric\": 0.9486212}, {\"run_id\": \"AutoML_38362b20-7ffe-4d1d-a924-226bee893a63_19\", \"run_number\": 1664455746, \"metric\": null, \"status\": \"Completed\", \"run_type\": null, \"training_percent\": \"100\", \"start_time\": \"2022-09-29T12:49:06.68581Z\", \"end_time\": \"2022-09-29T12:49:45.71407Z\", \"created_time\": \"2022-09-29T12:49:06.588793Z\", \"created_time_dt\": \"2022-09-29T12:49:06.588793Z\", \"duration\": \"0:00:39\", \"iteration\": \"19\", \"goal\": \"spearman_correlation_max\", \"run_name\": \"StackEnsemble\", \"run_properties\": \"base_learners=[('0', Pipeline(memory=None, steps=[('maxabsscaler', MaxAbsScaler(copy=True\", \"primary_metric\": 0.9481872, \"best_metric\": 0.9486212}], \"children_metrics\": {\"categories\": [0], \"series\": {\"spearman_correlation\": [{\"categories\": [\"0\", \"1\", \"2\", \"3\", \"4\", \"5\", \"6\", \"7\", \"8\", \"9\", \"10\", \"11\", \"13\", \"14\", \"15\", \"16\", \"17\", \"18\", \"19\"], \"mode\": \"markers\", \"name\": \"spearman_correlation\", \"stepped\": false, \"type\": \"scatter\", \"data\": [0.9478256115864936, 0.9432111005218363, 0.9460692193872997, 0.9047278409289055, 0.9462175921544371, 0.9443322132839851, 0.9465041162128086, 0.9439540420671882, 0.8742870637105256, 0.9462456183455437, 0.8948366234483446, 0.942493545570717, 0.9012602420849687, 0.9455146124608464, 0.9463236326300711, 0.9465145081292714, 0.9448868496018438, 0.9486211972338616, 0.9481872027421181]}, {\"categories\": [\"0\", \"1\", \"2\", \"3\", \"4\", \"5\", \"6\", \"7\", \"8\", \"9\", \"10\", \"11\", \"13\", \"14\", \"15\", \"16\", \"17\", \"18\", \"19\"], \"mode\": \"lines\", \"name\": \"spearman_correlation_max\", \"stepped\": true, \"type\": \"scatter\", \"data\": [0.9478256115864936, 0.9478256115864936, 0.9478256115864936, 0.9478256115864936, 0.9478256115864936, 0.9478256115864936, 0.9478256115864936, 0.9478256115864936, 0.9478256115864936, 0.9478256115864936, 0.9478256115864936, 0.9478256115864936, 0.9478256115864936, 0.9478256115864936, 0.9478256115864936, 0.9478256115864936, 0.9478256115864936, 0.9486211972338616, 0.9486211972338616]}], \"mean_absolute_error\": [{\"categories\": [\"0\", \"1\", \"2\", \"3\", \"4\", \"5\", \"6\", \"7\", \"8\", \"9\", \"10\", \"11\", \"13\", \"14\", \"15\", \"16\", \"17\", \"18\", \"19\"], \"mode\": \"markers\", \"name\": \"mean_absolute_error\", \"stepped\": false, \"type\": \"scatter\", \"data\": [2.0430624308745973, 2.123216646475703, 2.037910183936787, 5.663280706062993, 2.083669385202607, 2.1058824036461936, 5.303473442106885, 2.1091025503202228, 4.785545138129079, 2.0416029132628535, 5.222635490865374, 2.321583182456347, 4.050605666426189, 2.1615321399977594, 2.0981924132579977, 2.1237916424537846, 2.094904862158296, 1.9870602922903449, 2.022401198658379]}, {\"categories\": [\"0\", \"1\", \"2\", \"3\", \"4\", \"5\", \"6\", \"7\", \"8\", \"9\", \"10\", \"11\", \"13\", \"14\", \"15\", \"16\", \"17\", \"18\", \"19\"], \"mode\": \"lines\", \"name\": \"mean_absolute_error_min\", \"stepped\": true, \"type\": \"scatter\", \"data\": [2.0430624308745973, 2.0430624308745973, 2.037910183936787, 2.037910183936787, 2.037910183936787, 2.037910183936787, 2.037910183936787, 2.037910183936787, 2.037910183936787, 2.037910183936787, 2.037910183936787, 2.037910183936787, 2.037910183936787, 2.037910183936787, 2.037910183936787, 2.037910183936787, 2.037910183936787, 1.9870602922903449, 1.9870602922903449]}], \"mean_absolute_percentage_error\": [{\"categories\": [\"0\", \"1\", \"2\", \"3\", \"4\", \"5\", \"6\", \"7\", \"8\", \"9\", \"10\", \"11\", \"13\", \"14\", \"15\", \"16\", \"17\", \"18\", \"19\"], \"mode\": \"markers\", \"name\": \"mean_absolute_percentage_error\", \"stepped\": false, \"type\": \"scatter\", \"data\": [30.908783006621945, 31.486151144005948, 30.888562347159574, 69.20450611527745, 32.13234417620298, 32.05395359060281, 43.11551276434684, 31.46070990881221, 61.13198488505761, 31.78050591876727, 63.98371967782684, 32.9640420891081, 53.055840165545234, 32.39008963493108, 32.126514571610805, 32.1093808472626, 31.511315426287446, 30.08480971090139, 31.088634876680704]}, {\"categories\": [\"0\", \"1\", \"2\", \"3\", \"4\", \"5\", \"6\", \"7\", \"8\", \"9\", \"10\", \"11\", \"13\", \"14\", \"15\", \"16\", \"17\", \"18\", \"19\"], \"mode\": \"lines\", \"name\": \"mean_absolute_percentage_error_min\", \"stepped\": true, \"type\": \"scatter\", \"data\": [30.908783006621945, 30.908783006621945, 30.888562347159574, 30.888562347159574, 30.888562347159574, 30.888562347159574, 30.888562347159574, 30.888562347159574, 30.888562347159574, 30.888562347159574, 30.888562347159574, 30.888562347159574, 30.888562347159574, 30.888562347159574, 30.888562347159574, 30.888562347159574, 30.888562347159574, 30.08480971090139, 30.08480971090139]}], \"root_mean_squared_error\": [{\"categories\": [\"0\", \"1\", \"2\", \"3\", \"4\", \"5\", \"6\", \"7\", \"8\", \"9\", \"10\", \"11\", \"13\", \"14\", \"15\", \"16\", \"17\", \"18\", \"19\"], \"mode\": \"markers\", \"name\": \"root_mean_squared_error\", \"stepped\": false, \"type\": \"scatter\", \"data\": [3.742183914605402, 3.8813938959931162, 3.7246722687579967, 8.184476564975137, 3.8384967014120597, 3.7067194098347755, 7.643192063782803, 3.738804815902705, 7.38612485754213, 3.724363224773537, 7.862489367398378, 4.376602471644798, 6.244599113982958, 4.070316113309992, 3.8695552880799453, 3.9789222957551673, 3.858988608235488, 3.726470806583939, 3.6641835632051554]}, {\"categories\": [\"0\", \"1\", \"2\", \"3\", \"4\", \"5\", \"6\", \"7\", \"8\", \"9\", \"10\", \"11\", \"13\", \"14\", \"15\", \"16\", \"17\", \"18\", \"19\"], \"mode\": \"lines\", \"name\": \"root_mean_squared_error_min\", \"stepped\": true, \"type\": \"scatter\", \"data\": [3.742183914605402, 3.742183914605402, 3.7246722687579967, 3.7246722687579967, 3.7246722687579967, 3.7067194098347755, 3.7067194098347755, 3.7067194098347755, 3.7067194098347755, 3.7067194098347755, 3.7067194098347755, 3.7067194098347755, 3.7067194098347755, 3.7067194098347755, 3.7067194098347755, 3.7067194098347755, 3.7067194098347755, 3.7067194098347755, 3.6641835632051554]}], \"normalized_median_absolute_error\": [{\"categories\": [\"0\", \"1\", \"2\", \"3\", \"4\", \"5\", \"6\", \"7\", \"8\", \"9\", \"10\", \"11\", \"13\", \"14\", \"15\", \"16\", \"17\", \"18\", \"19\"], \"mode\": \"markers\", \"name\": \"normalized_median_absolute_error\", \"stepped\": false, \"type\": \"scatter\", \"data\": [0.009679769287401106, 0.009805003247899213, 0.009919784129673887, 0.036814164496351144, 0.010448225325387092, 0.010825506084995452, 0.02983732165529754, 0.010435933633797545, 0.029663543032691052, 0.00969666624490518, 0.03301337863673699, 0.010949126230853024, 0.024776808336089966, 0.010531769474911364, 0.010523776305039501, 0.01034876718693566, 0.009984075427493065, 0.009284208895265543, 0.009948981974253956]}, {\"categories\": [\"0\", \"1\", \"2\", \"3\", \"4\", \"5\", \"6\", \"7\", \"8\", \"9\", \"10\", \"11\", \"13\", \"14\", \"15\", \"16\", \"17\", \"18\", \"19\"], \"mode\": \"lines\", \"name\": \"normalized_median_absolute_error_min\", \"stepped\": true, \"type\": \"scatter\", \"data\": [0.009679769287401106, 0.009679769287401106, 0.009679769287401106, 0.009679769287401106, 0.009679769287401106, 0.009679769287401106, 0.009679769287401106, 0.009679769287401106, 0.009679769287401106, 0.009679769287401106, 0.009679769287401106, 0.009679769287401106, 0.009679769287401106, 0.009679769287401106, 0.009679769287401106, 0.009679769287401106, 0.009679769287401106, 0.009284208895265543, 0.009284208895265543]}], \"normalized_root_mean_squared_log_error\": [{\"categories\": [\"0\", \"1\", \"2\", \"3\", \"4\", \"5\", \"6\", \"7\", \"8\", \"9\", \"10\", \"11\", \"13\", \"14\", \"15\", \"16\", \"17\", \"18\", \"19\"], \"mode\": \"markers\", \"name\": \"normalized_root_mean_squared_log_error\", \"stepped\": false, \"type\": \"scatter\", \"data\": [0.034973413061423556, 0.03662827340250876, 0.03526969696125193, 0.08965613840142324, 0.03579612392444878, 0.03663754057936692, 0.08331181128742852, 0.03639934621414135, 0.07722907316265137, 0.035290166541401234, 0.0836280219843017, 0.038300197238561595, 0.06748454852515143, 0.0366794296569531, 0.03588210772435933, 0.036113466521151855, 0.03580839781836416, 0.034631420769232986, 0.034980328574522115]}, {\"categories\": [\"0\", \"1\", \"2\", \"3\", \"4\", \"5\", \"6\", \"7\", \"8\", \"9\", \"10\", \"11\", \"13\", \"14\", \"15\", \"16\", \"17\", \"18\", \"19\"], \"mode\": \"lines\", \"name\": \"normalized_root_mean_squared_log_error_min\", \"stepped\": true, \"type\": \"scatter\", \"data\": [0.034973413061423556, 0.034973413061423556, 0.034973413061423556, 0.034973413061423556, 0.034973413061423556, 0.034973413061423556, 0.034973413061423556, 0.034973413061423556, 0.034973413061423556, 0.034973413061423556, 0.034973413061423556, 0.034973413061423556, 0.034973413061423556, 0.034973413061423556, 0.034973413061423556, 0.034973413061423556, 0.034973413061423556, 0.034631420769232986, 0.034631420769232986]}], \"r2_score\": [{\"categories\": [\"0\", \"1\", \"2\", \"3\", \"4\", \"5\", \"6\", \"7\", \"8\", \"9\", \"10\", \"11\", \"13\", \"14\", \"15\", \"16\", \"17\", \"18\", \"19\"], \"mode\": \"markers\", \"name\": \"r2_score\", \"stepped\": false, \"type\": \"scatter\", \"data\": [0.8643452485939015, 0.8543534783165241, 0.8655754882390818, 0.35354404937118045, 0.8571358762719046, 0.8670403824023364, 0.4362394830782641, 0.8647254195268719, 0.4643260360868956, 0.8654879716557143, 0.4023514893923963, 0.8143130375289088, 0.6228612094798998, 0.839107132792078, 0.8547820154340068, 0.8465076750036351, 0.8556437834924164, 0.8653819322120725, 0.8699074975512724]}, {\"categories\": [\"0\", \"1\", \"2\", \"3\", \"4\", \"5\", \"6\", \"7\", \"8\", \"9\", \"10\", \"11\", \"13\", \"14\", \"15\", \"16\", \"17\", \"18\", \"19\"], \"mode\": \"lines\", \"name\": \"r2_score_max\", \"stepped\": true, \"type\": \"scatter\", \"data\": [0.8643452485939015, 0.8643452485939015, 0.8655754882390818, 0.8655754882390818, 0.8655754882390818, 0.8670403824023364, 0.8670403824023364, 0.8670403824023364, 0.8670403824023364, 0.8670403824023364, 0.8670403824023364, 0.8670403824023364, 0.8670403824023364, 0.8670403824023364, 0.8670403824023364, 0.8670403824023364, 0.8670403824023364, 0.8670403824023364, 0.8699074975512724]}], \"explained_variance\": [{\"categories\": [\"0\", \"1\", \"2\", \"3\", \"4\", \"5\", \"6\", \"7\", \"8\", \"9\", \"10\", \"11\", \"13\", \"14\", \"15\", \"16\", \"17\", \"18\", \"19\"], \"mode\": \"markers\", \"name\": \"explained_variance\", \"stepped\": false, \"type\": \"scatter\", \"data\": [0.8644098379225469, 0.8544234080550807, 0.8656255960484328, 0.3539123771020437, 0.857208350446589, 0.8670836293759105, 0.7032819809094372, 0.864776049936103, 0.46469081322771116, 0.8655486861023789, 0.4026910331314351, 0.8144599817415348, 0.6230320023098125, 0.8392007645562526, 0.8548486261679098, 0.846596351708147, 0.8557224055496351, 0.8667613585726679, 0.8699898540263694]}, {\"categories\": [\"0\", \"1\", \"2\", \"3\", \"4\", \"5\", \"6\", \"7\", \"8\", \"9\", \"10\", \"11\", \"13\", \"14\", \"15\", \"16\", \"17\", \"18\", \"19\"], \"mode\": \"lines\", \"name\": \"explained_variance_max\", \"stepped\": true, \"type\": \"scatter\", \"data\": [0.8644098379225469, 0.8644098379225469, 0.8656255960484328, 0.8656255960484328, 0.8656255960484328, 0.8670836293759105, 0.8670836293759105, 0.8670836293759105, 0.8670836293759105, 0.8670836293759105, 0.8670836293759105, 0.8670836293759105, 0.8670836293759105, 0.8670836293759105, 0.8670836293759105, 0.8670836293759105, 0.8670836293759105, 0.8670836293759105, 0.8699898540263694]}], \"median_absolute_error\": [{\"categories\": [\"0\", \"1\", \"2\", \"3\", \"4\", \"5\", \"6\", \"7\", \"8\", \"9\", \"10\", \"11\", \"13\", \"14\", \"15\", \"16\", \"17\", \"18\", \"19\"], \"mode\": \"markers\", \"name\": \"median_absolute_error\", \"stepped\": false, \"type\": \"scatter\", \"data\": [1.2259427802493499, 1.2418036613464354, 1.2563406600231979, 4.662513933462871, 1.323267737460275, 1.3710503456646739, 3.7788967876434327, 1.321710994720459, 3.756887725090322, 1.2280827799172411, 4.18114440434274, 1.3867068371375355, 3.1379827757657943, 1.333848603997524, 1.3328362690332525, 1.310671364225401, 1.2644831528919966, 1.175845056585381, 1.2600385670392633]}, {\"categories\": [\"0\", \"1\", \"2\", \"3\", \"4\", \"5\", \"6\", \"7\", \"8\", \"9\", \"10\", \"11\", \"13\", \"14\", \"15\", \"16\", \"17\", \"18\", \"19\"], \"mode\": \"lines\", \"name\": \"median_absolute_error_min\", \"stepped\": true, \"type\": \"scatter\", \"data\": [1.2259427802493499, 1.2259427802493499, 1.2259427802493499, 1.2259427802493499, 1.2259427802493499, 1.2259427802493499, 1.2259427802493499, 1.2259427802493499, 1.2259427802493499, 1.2259427802493499, 1.2259427802493499, 1.2259427802493499, 1.2259427802493499, 1.2259427802493499, 1.2259427802493499, 1.2259427802493499, 1.2259427802493499, 1.175845056585381, 1.175845056585381]}], \"root_mean_squared_log_error\": [{\"categories\": [\"0\", \"1\", \"2\", \"3\", \"4\", \"5\", \"6\", \"7\", \"8\", \"9\", \"10\", \"11\", \"13\", \"14\", \"15\", \"16\", \"17\", \"18\", \"19\"], \"mode\": \"markers\", \"name\": \"root_mean_squared_log_error\", \"stepped\": false, \"type\": \"scatter\", \"data\": [0.16925103984786963, 0.17725960432625656, 0.17068488212251584, 0.43388372265911573, 0.1732324833751743, 0.17730445208866805, 0.40318085819196303, 0.1761517294782232, 0.37374393274997963, 0.17078394302113145, 0.4047111346097324, 0.18535074622600178, 0.32658608387708166, 0.17750717093476054, 0.17364859510894684, 0.1747682375317871, 0.1732918819046947, 0.1675959954582485, 0.1692845069212993]}, {\"categories\": [\"0\", \"1\", \"2\", \"3\", \"4\", \"5\", \"6\", \"7\", \"8\", \"9\", \"10\", \"11\", \"13\", \"14\", \"15\", \"16\", \"17\", \"18\", \"19\"], \"mode\": \"lines\", \"name\": \"root_mean_squared_log_error_min\", \"stepped\": true, \"type\": \"scatter\", \"data\": [0.16925103984786963, 0.16925103984786963, 0.16925103984786963, 0.16925103984786963, 0.16925103984786963, 0.16925103984786963, 0.16925103984786963, 0.16925103984786963, 0.16925103984786963, 0.16925103984786963, 0.16925103984786963, 0.16925103984786963, 0.16925103984786963, 0.16925103984786963, 0.16925103984786963, 0.16925103984786963, 0.16925103984786963, 0.1675959954582485, 0.1675959954582485]}], \"normalized_root_mean_squared_error\": [{\"categories\": [\"0\", \"1\", \"2\", \"3\", \"4\", \"5\", \"6\", \"7\", \"8\", \"9\", \"10\", \"11\", \"13\", \"14\", \"15\", \"16\", \"17\", \"18\", \"19\"], \"mode\": \"markers\", \"name\": \"normalized_root_mean_squared_error\", \"stepped\": false, \"type\": \"scatter\", \"data\": [0.02954744504228506, 0.030646615838871828, 0.02940917701348596, 0.06462279166976026, 0.03030790920972807, 0.02926742526517786, 0.06034893062599922, 0.02952076443665776, 0.05831918561028132, 0.029406736871484696, 0.06208045296011353, 0.03455667170663086, 0.0493059543149069, 0.0321383033028819, 0.030553140845479238, 0.031416678213621534, 0.030469708710900024, 0.029423377864855427, 0.028931571758429968]}, {\"categories\": [\"0\", \"1\", \"2\", \"3\", \"4\", \"5\", \"6\", \"7\", \"8\", \"9\", \"10\", \"11\", \"13\", \"14\", \"15\", \"16\", \"17\", \"18\", \"19\"], \"mode\": \"lines\", \"name\": \"normalized_root_mean_squared_error_min\", \"stepped\": true, \"type\": \"scatter\", \"data\": [0.02954744504228506, 0.02954744504228506, 0.02940917701348596, 0.02940917701348596, 0.02940917701348596, 0.02926742526517786, 0.02926742526517786, 0.02926742526517786, 0.02926742526517786, 0.02926742526517786, 0.02926742526517786, 0.02926742526517786, 0.02926742526517786, 0.02926742526517786, 0.02926742526517786, 0.02926742526517786, 0.02926742526517786, 0.02926742526517786, 0.028931571758429968]}], \"normalized_mean_absolute_error\": [{\"categories\": [\"0\", \"1\", \"2\", \"3\", \"4\", \"5\", \"6\", \"7\", \"8\", \"9\", \"10\", \"11\", \"13\", \"14\", \"15\", \"16\", \"17\", \"18\", \"19\"], \"mode\": \"markers\", \"name\": \"normalized_mean_absolute_error\", \"stepped\": false, \"type\": \"scatter\", \"data\": [0.016131562817801794, 0.016764442530404287, 0.016090881831320864, 0.044715994520829014, 0.01645218622347104, 0.016627575236053644, 0.04187503704782382, 0.016653000792105986, 0.0377855912998743, 0.016120038794021737, 0.04123675871192558, 0.018330700216789158, 0.03198267403415862, 0.017066973075386967, 0.016566856796352135, 0.016768982569710107, 0.01654089903006945, 0.015689382489461865, 0.015968426361297902]}, {\"categories\": [\"0\", \"1\", \"2\", \"3\", \"4\", \"5\", \"6\", \"7\", \"8\", \"9\", \"10\", \"11\", \"13\", \"14\", \"15\", \"16\", \"17\", \"18\", \"19\"], \"mode\": \"lines\", \"name\": \"normalized_mean_absolute_error_min\", \"stepped\": true, \"type\": \"scatter\", \"data\": [0.016131562817801794, 0.016131562817801794, 0.016090881831320864, 0.016090881831320864, 0.016090881831320864, 0.016090881831320864, 0.016090881831320864, 0.016090881831320864, 0.016090881831320864, 0.016090881831320864, 0.016090881831320864, 0.016090881831320864, 0.016090881831320864, 0.016090881831320864, 0.016090881831320864, 0.016090881831320864, 0.016090881831320864, 0.015689382489461865, 0.015689382489461865]}]}, \"metricName\": null, \"primaryMetricName\": \"spearman_correlation\", \"showLegend\": false}, \"run_metrics\": [{\"name\": \"normalized_root_mean_squared_error\", \"run_id\": \"AutoML_38362b20-7ffe-4d1d-a924-226bee893a63\", \"categories\": [0], \"series\": [{\"data\": [0.029423377864855427]}]}, {\"name\": \"root_mean_squared_log_error\", \"run_id\": \"AutoML_38362b20-7ffe-4d1d-a924-226bee893a63\", \"categories\": [0], \"series\": [{\"data\": [0.1675959954582485]}]}, {\"name\": \"explained_variance\", \"run_id\": \"AutoML_38362b20-7ffe-4d1d-a924-226bee893a63\", \"categories\": [0], \"series\": [{\"data\": [0.8667613585726679]}]}, {\"name\": \"normalized_root_mean_squared_log_error\", \"run_id\": \"AutoML_38362b20-7ffe-4d1d-a924-226bee893a63\", \"categories\": [0], \"series\": [{\"data\": [0.034631420769232986]}]}, {\"name\": \"r2_score\", \"run_id\": \"AutoML_38362b20-7ffe-4d1d-a924-226bee893a63\", \"categories\": [0], \"series\": [{\"data\": [0.8653819322120725]}]}, {\"name\": \"normalized_median_absolute_error\", \"run_id\": \"AutoML_38362b20-7ffe-4d1d-a924-226bee893a63\", \"categories\": [0], \"series\": [{\"data\": [0.009284208895265543]}]}, {\"name\": \"normalized_mean_absolute_error\", \"run_id\": \"AutoML_38362b20-7ffe-4d1d-a924-226bee893a63\", \"categories\": [0], \"series\": [{\"data\": [0.015689382489461865]}]}, {\"name\": \"mean_absolute_percentage_error\", \"run_id\": \"AutoML_38362b20-7ffe-4d1d-a924-226bee893a63\", \"categories\": [0], \"series\": [{\"data\": [30.08480971090139]}]}, {\"name\": \"mean_absolute_error\", \"run_id\": \"AutoML_38362b20-7ffe-4d1d-a924-226bee893a63\", \"categories\": [0], \"series\": [{\"data\": [1.9870602922903449]}]}, {\"name\": \"root_mean_squared_error\", \"run_id\": \"AutoML_38362b20-7ffe-4d1d-a924-226bee893a63\", \"categories\": [0], \"series\": [{\"data\": [3.726470806583939]}]}, {\"name\": \"median_absolute_error\", \"run_id\": \"AutoML_38362b20-7ffe-4d1d-a924-226bee893a63\", \"categories\": [0], \"series\": [{\"data\": [1.175845056585381]}]}, {\"name\": \"spearman_correlation\", \"run_id\": \"AutoML_38362b20-7ffe-4d1d-a924-226bee893a63\", \"categories\": [0], \"series\": [{\"data\": [0.9486211972338616]}]}], \"run_logs\": \"\\nRun is completed.\", \"graph\": {}, \"widget_settings\": {\"childWidgetDisplay\": \"popup\", \"send_telemetry\": false, \"log_level\": \"INFO\", \"sdk_version\": \"1.40.0\"}, \"loading\": false}"
          },
          "metadata": {}
        }
      ],
      "execution_count": 13,
      "metadata": {
        "gather": {
          "logged": 1664455848165
        }
      }
    },
    {
      "cell_type": "markdown",
      "source": [
        "### And retrieve the best model"
      ],
      "metadata": {}
    },
    {
      "cell_type": "code",
      "source": [
        "best_run, fitted_model = local_run.get_output()\n",
        "print(best_run)\n",
        "print(fitted_model)"
      ],
      "outputs": [
        {
          "output_type": "stream",
          "name": "stdout",
          "text": "Run(Experiment: taxi-experiment,\nId: AutoML_38362b20-7ffe-4d1d-a924-226bee893a63_18,\nType: None,\nStatus: Completed)\nRegressionPipeline(pipeline=Pipeline(memory=None,\n                                     steps=[('datatransformer',\n                                             DataTransformer(enable_dnn=False, enable_feature_sweeping=True, feature_sweeping_config={}, feature_sweeping_timeout=86400, featurization_config=None, force_text_dnn=False, is_cross_validation=True, is_onnx_compatible=False, observer=None, task='regression', working_dir='/mnt/batch/ta...\n                                             PreFittedSoftVotingRegressor(estimators=[('0', Pipeline(memory=None, steps=[('maxabsscaler', MaxAbsScaler(copy=True)), ('lightgbmregressor', LightGBMRegressor(min_data_in_leaf=20, n_jobs=1, problem_info=ProblemInfo(gpu_training_param_dict={'processing_unit_type': 'cpu'}), random_state=None))], verbose=False)), ('16', Pipeline(memory=None, steps=[('robustscaler', RobustScaler(copy=True, quantile_range=[25, 75], with_centering=True, with_scaling=False)), ('randomforestregressor', RandomForestRegressor(bootstrap=True, ccp_alpha=0.0, criterion='mse', max_depth=None, max_features=0.6, max_leaf_nodes=None, max_samples=None, min_impurity_decrease=0.0, min_impurity_split=None, min_samples_leaf=0.006151578686713196, min_samples_split=0.0037087774117744725, min_weight_fraction_leaf=0.0, n_estimators=25, n_jobs=1, oob_score=False, random_state=None, verbose=0, warm_start=False))], verbose=False)), ('6', Pipeline(memory=None, steps=[('standardscalerwrapper', StandardScalerWrapper(copy=True, with_mean=False, with_std=False)), ('xgboostregressor', XGBoostRegressor(booster='gbtree', colsample_bylevel=0.5, colsample_bytree=1, eta=0.01, gamma=0, max_depth=7, max_leaves=127, n_estimators=100, n_jobs=1, objective='reg:linear', problem_info=ProblemInfo(gpu_training_param_dict={'processing_unit_type': 'cpu'}), random_state=0, reg_alpha=1.3541666666666667, reg_lambda=1.0416666666666667, subsample=1, tree_method='auto'))], verbose=False)), ('15', Pipeline(memory=None, steps=[('standardscalerwrapper', StandardScalerWrapper(copy=True, with_mean=True, with_std=False)), ('extratreesregressor', ExtraTreesRegressor(bootstrap=True, ccp_alpha=0.0, criterion='mse', max_depth=None, max_features=0.9, max_leaf_nodes=None, max_samples=None, min_impurity_decrease=0.0, min_impurity_split=None, min_samples_leaf=0.001953125, min_samples_split=0.0018261584682702607, min_weight_fraction_leaf=0.0, n_estimators=100, n_jobs=1, oob_score=False, random_state=None, verbose=0, warm_start=False))], verbose=False)), ('9', Pipeline(memory=None, steps=[('standardscalerwrapper', StandardScalerWrapper(copy=True, with_mean=True, with_std=False)), ('randomforestregressor', RandomForestRegressor(bootstrap=False, ccp_alpha=0.0, criterion='mse', max_depth=None, max_features=0.9, max_leaf_nodes=None, max_samples=None, min_impurity_decrease=0.0, min_impurity_split=None, min_samples_leaf=0.001953125, min_samples_split=0.0010734188827013528, min_weight_fraction_leaf=0.0, n_estimators=25, n_jobs=1, oob_score=False, random_state=None, verbose=0, warm_start=False))], verbose=False)), ('2', Pipeline(memory=None, steps=[('robustscaler', RobustScaler(copy=True, quantile_range=[25, 75], with_centering=False, with_scaling=False)), ('lightgbmregressor', LightGBMRegressor(boosting_type='gbdt', colsample_bytree=0.4, learning_rate=0.09474210526315789, max_bin=255, max_depth=9, min_data_in_leaf=0.003813991229368052, min_split_gain=0.3684210526315789, n_estimators=400, n_jobs=1, num_leaves=7, problem_info=ProblemInfo(gpu_training_param_dict={'processing_unit_type': 'cpu'}), random_state=None, reg_alpha=0.525, reg_lambda=1.275, subsample=0.75, subsample_freq=3))], verbose=False)), ('5', Pipeline(memory=None, steps=[('maxabsscaler', MaxAbsScaler(copy=True)), ('elasticnet', ElasticNet(alpha=0.001, copy_X=True, fit_intercept=True, l1_ratio=1, max_iter=1000, normalize=False, positive=False, precompute=False, random_state=None, selection='cyclic', tol=0.0001, warm_start=False))], verbose=False))], weights=[0.2857142857142857, 0.14285714285714285, 0.07142857142857142, 0.07142857142857142, 0.14285714285714285, 0.21428571428571427, 0.07142857142857142]))],\n                                     verbose=False),\n                   stddev=[3.7253134043463163])\n"
        }
      ],
      "execution_count": 14,
      "metadata": {
        "gather": {
          "logged": 1664455850013
        }
      }
    },
    {
      "cell_type": "markdown",
      "source": [
        "### Test the best model accuracy\n",
        "\n",
        "Use the best model to run predictions on the test data set to predict taxi fares. The function predict uses the best model and predicts the values of y, trip cost, from the x_test data set. Print the first 10 predicted cost values from y_predict."
      ],
      "metadata": {}
    },
    {
      "cell_type": "code",
      "source": [
        "y_predict = fitted_model.predict(x_test.values)\n",
        "print(y_predict[:10])"
      ],
      "outputs": [
        {
          "output_type": "stream",
          "name": "stdout",
          "text": "[30.97032243  6.31474416  8.20309376 13.10023466 24.71177551 10.88774902\n 11.85201005  8.52708824 33.96421428  9.5464549 ]\n"
        }
      ],
      "execution_count": 15,
      "metadata": {
        "gather": {
          "logged": 1664455850247
        }
      }
    },
    {
      "cell_type": "code",
      "source": [
        "from sklearn.metrics import mean_squared_error\n",
        "from math import sqrt\n",
        "\n",
        "y_actual = y_test.values.flatten().tolist()\n",
        "rmse = sqrt(mean_squared_error(y_actual, y_predict))\n",
        "rmse"
      ],
      "outputs": [
        {
          "output_type": "execute_result",
          "execution_count": 16,
          "data": {
            "text/plain": "5.088778719443321"
          },
          "metadata": {}
        }
      ],
      "execution_count": 16,
      "metadata": {
        "gather": {
          "logged": 1664455850393
        }
      }
    },
    {
      "cell_type": "markdown",
      "source": [
        "### Calculating MAPE"
      ],
      "metadata": {}
    },
    {
      "cell_type": "code",
      "source": [
        "sum_actuals = sum_errors = 0\n",
        "\n",
        "for actual_val, predict_val in zip(y_actual, y_predict):\n",
        "    abs_error = actual_val - predict_val\n",
        "    if abs_error < 0:\n",
        "        abs_error = abs_error * -1\n",
        "\n",
        "    sum_errors = sum_errors + abs_error\n",
        "    sum_actuals = sum_actuals + actual_val\n",
        "\n",
        "mean_abs_percent_error = sum_errors / sum_actuals\n",
        "print(\"Model MAPE:\")\n",
        "print(mean_abs_percent_error)\n",
        "print()\n",
        "print(\"Model Accuracy:\")\n",
        "print(1 - mean_abs_percent_error)"
      ],
      "outputs": [
        {
          "output_type": "stream",
          "name": "stdout",
          "text": "Model MAPE:\n0.14200137957215342\n\nModel Accuracy:\n0.8579986204278466\n"
        }
      ],
      "execution_count": 17,
      "metadata": {
        "gather": {
          "logged": 1664455850486
        }
      }
    },
    {
      "cell_type": "markdown",
      "source": [
        "From the two prediction accuracy metrics, you see that the model is fairly good at predicting taxi fares from the data set's features, typically within +- $4.00, and approximately 15% error.\n",
        "\n",
        "The traditional machine learning model development process is highly resource-intensive, and requires significant domain knowledge and time investment to run and compare the results of dozens of models. Using automated machine learning is a great way to rapidly test many different models for your scenario."
      ],
      "metadata": {}
    },
    {
      "cell_type": "code",
      "source": [],
      "outputs": [],
      "execution_count": null,
      "metadata": {}
    }
  ],
  "metadata": {
    "kernelspec": {
      "name": "python38-azureml",
      "language": "python",
      "display_name": "Python 3.8 - AzureML"
    },
    "language_info": {
      "name": "python",
      "version": "3.8.5",
      "mimetype": "text/x-python",
      "codemirror_mode": {
        "name": "ipython",
        "version": 3
      },
      "pygments_lexer": "ipython3",
      "nbconvert_exporter": "python",
      "file_extension": ".py"
    },
    "kernel_info": {
      "name": "python38-azureml"
    },
    "nteract": {
      "version": "nteract-front-end@1.0.0"
    },
    "microsoft": {
      "host": {
        "AzureML": {
          "notebookHasBeenCompleted": true
        }
      }
    }
  },
  "nbformat": 4,
  "nbformat_minor": 2
}